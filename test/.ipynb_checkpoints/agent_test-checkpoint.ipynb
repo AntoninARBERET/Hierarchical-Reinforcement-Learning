{
 "cells": [
  {
   "cell_type": "markdown",
   "metadata": {},
   "source": [
    "# Test agents"
   ]
  },
  {
   "cell_type": "code",
   "execution_count": 55,
   "metadata": {},
   "outputs": [
    {
     "data": {
      "text/plain": [
       "<module 'agents' from '../src/agents.py'>"
      ]
     },
     "execution_count": 55,
     "metadata": {},
     "output_type": "execute_result"
    }
   ],
   "source": [
    "import sys\n",
    "\n",
    "sys.path.insert(1, '../src')\n",
    "import agents as ag\n",
    "import lightbox as lb\n",
    "#to not restart kernel on jupyter each time\n",
    "import importlib\n",
    "importlib.reload(lb)\n",
    "importlib.reload(ag)"
   ]
  },
  {
   "cell_type": "markdown",
   "metadata": {},
   "source": [
    "## Creation and print"
   ]
  },
  {
   "cell_type": "code",
   "execution_count": 56,
   "metadata": {},
   "outputs": [],
   "source": [
    "env = lb.LightBox()"
   ]
  },
  {
   "cell_type": "code",
   "execution_count": 57,
   "metadata": {},
   "outputs": [],
   "source": [
    "age = ag.AbstractAgent(env)"
   ]
  },
  {
   "cell_type": "code",
   "execution_count": 58,
   "metadata": {},
   "outputs": [
    {
     "name": "stdout",
     "output_type": "stream",
     "text": [
      "Abstract agent, currently at iteration 1 and learned 0 options\n"
     ]
    }
   ],
   "source": [
    "print(age)"
   ]
  },
  {
   "cell_type": "code",
   "execution_count": 59,
   "metadata": {},
   "outputs": [
    {
     "name": "stdout",
     "output_type": "stream",
     "text": [
      "2       \n",
      "├── -0-> 0\n",
      "└── -1-> 0\n"
     ]
    }
   ],
   "source": [
    "age.FMDP[1][\"cpts\"][2].print_tree()"
   ]
  },
  {
   "cell_type": "markdown",
   "metadata": {},
   "source": [
    "## BIC"
   ]
  },
  {
   "cell_type": "code",
   "execution_count": 60,
   "metadata": {},
   "outputs": [
    {
     "data": {
      "text/plain": [
       "<agents.AbstractAgent.CPTNode at 0x7fc519139908>"
      ]
     },
     "execution_count": 60,
     "metadata": {},
     "output_type": "execute_result"
    }
   ],
   "source": [
    "importlib.reload(ag)\n",
    "age = ag.AbstractAgent(env)\n",
    "s0 = [0,0,0,0,0,0,0,0,0,0,0,0,0,0,0,0,0,0,0,0]\n",
    "s1 = [1,0,0,0,0,0,0,0,0,0,0,0,0,0,0,0,0,0,0,0]\n",
    "\n",
    "age.FMDP[1][\"cpts\"][1].add_datapoint(s0, 1, s1)"
   ]
  },
  {
   "cell_type": "code",
   "execution_count": 61,
   "metadata": {},
   "outputs": [
    {
     "data": {
      "text/plain": [
       "<agents.AbstractAgent.CPTNode at 0x7fc519139908>"
      ]
     },
     "execution_count": 61,
     "metadata": {},
     "output_type": "execute_result"
    }
   ],
   "source": [
    "age.FMDP[1][\"cpts\"][1].add_datapoint(s0, 1, s1)\n"
   ]
  },
  {
   "cell_type": "code",
   "execution_count": 62,
   "metadata": {},
   "outputs": [
    {
     "data": {
      "text/plain": [
       "<agents.AbstractAgent.CPTNode at 0x7fc519139908>"
      ]
     },
     "execution_count": 62,
     "metadata": {},
     "output_type": "execute_result"
    }
   ],
   "source": [
    "age.FMDP[1][\"cpts\"][1].add_datapoint(s0, 1, s0)"
   ]
  },
  {
   "cell_type": "code",
   "execution_count": 63,
   "metadata": {},
   "outputs": [
    {
     "name": "stdout",
     "output_type": "stream",
     "text": [
      "1       \n",
      "├── -0-> 0.6666666666666666\n",
      "└── -1-> 0\n",
      "[{'s_0': [0, 0, 0, 0, 0, 0, 0, 0, 0, 0, 0, 0, 0, 0, 0, 0, 0, 0, 0, 0], 'a': 1, 's_1': [1, 0, 0, 0, 0, 0, 0, 0, 0, 0, 0, 0, 0, 0, 0, 0, 0, 0, 0, 0]}, {'s_0': [0, 0, 0, 0, 0, 0, 0, 0, 0, 0, 0, 0, 0, 0, 0, 0, 0, 0, 0, 0], 'a': 1, 's_1': [1, 0, 0, 0, 0, 0, 0, 0, 0, 0, 0, 0, 0, 0, 0, 0, 0, 0, 0, 0]}, {'s_0': [0, 0, 0, 0, 0, 0, 0, 0, 0, 0, 0, 0, 0, 0, 0, 0, 0, 0, 0, 0], 'a': 1, 's_1': [0, 0, 0, 0, 0, 0, 0, 0, 0, 0, 0, 0, 0, 0, 0, 0, 0, 0, 0, 0]}]\n",
      "-12.895665391565537\n"
     ]
    }
   ],
   "source": [
    "age.FMDP[1][\"cpts\"][1].print_tree()\n",
    "print(age.FMDP[1][\"cpts\"][1].children[0].dataset)\n",
    "print(age.FMDP[1][\"cpts\"][1].children[0].compute_BIC_Mono())\n",
    "#should return -12.89"
   ]
  },
  {
   "cell_type": "code",
   "execution_count": null,
   "metadata": {},
   "outputs": [],
   "source": []
  },
  {
   "cell_type": "markdown",
   "metadata": {},
   "source": [
    "## Refinement"
   ]
  },
  {
   "cell_type": "code",
   "execution_count": 64,
   "metadata": {},
   "outputs": [
    {
     "name": "stdout",
     "output_type": "stream",
     "text": [
      "0\n",
      "2       \n",
      "├── -0-> 1\n",
      "│   ├── -0-> 0.0\n",
      "│   └── -1-> 0.9\n",
      "└── -1-> 0\n"
     ]
    },
    {
     "data": {
      "text/plain": [
       "-26.276680663854943"
      ]
     },
     "execution_count": 64,
     "metadata": {},
     "output_type": "execute_result"
    }
   ],
   "source": [
    "importlib.reload(ag)\n",
    "age = ag.AbstractAgent(env)\n",
    "#Var 2 depend on var 1\n",
    "#var 1\n",
    "s_1_off = [0,0,0,0,0,0,0,0,0,0,0,0,0,0,0,0,0,0,0,0]\n",
    "s_1_on = [1,0,0,0,0,0,0,0,0,0,0,0,0,0,0,0,0,0,0,0]\n",
    "#var 2\n",
    "s_2_off = [1,0,0,0,0,0,0,0,0,0,0,0,0,0,0,0,0,0,0,0]\n",
    "s_2_on = [1,1,0,0,0,0,0,0,0,0,0,0,0,0,0,0,0,0,0,0]\n",
    "\n",
    "print(age.FMDP[2][\"cpts\"][2].compute_BIC_Mono())\n",
    "\n",
    "#1 off -> 1 off\n",
    "for _ in range(10):\n",
    "    age.update(s_1_off, 2, s_1_off)\n",
    "\n",
    "#1 on -> 2 on (90% of the time)\n",
    "for _ in range(9):\n",
    "    age.update(s_1_on, 2, s_2_on)\n",
    "\n",
    "#1 on -> 2 off (10%)\n",
    "for _ in range(1):\n",
    "    age.update(s_1_on, 2, s_1_off)\n",
    "    \n",
    "age.FMDP[2][\"cpts\"][2].print_tree()\n",
    "age.FMDP[2][\"cpts\"][2].children[0].children[1].compute_BIC_Mono()"
   ]
  },
  {
   "cell_type": "markdown",
   "metadata": {},
   "source": [
    "## Options"
   ]
  },
  {
   "cell_type": "code",
   "execution_count": 65,
   "metadata": {},
   "outputs": [],
   "source": [
    "importlib.reload(ag)\n",
    "age = ag.AbstractAgent(env)"
   ]
  },
  {
   "cell_type": "markdown",
   "metadata": {},
   "source": [
    "### Creation"
   ]
  },
  {
   "cell_type": "code",
   "execution_count": null,
   "metadata": {},
   "outputs": [],
   "source": []
  },
  {
   "cell_type": "code",
   "execution_count": 66,
   "metadata": {},
   "outputs": [
    {
     "ename": "TypeError",
     "evalue": "create_option() missing 1 required positional argument: 'opt_root'",
     "output_type": "error",
     "traceback": [
      "\u001b[0;31m---------------------------------------------------------------------------\u001b[0m",
      "\u001b[0;31mTypeError\u001b[0m                                 Traceback (most recent call last)",
      "\u001b[0;32m<ipython-input-66-490c43fe8dd6>\u001b[0m in \u001b[0;36m<module>\u001b[0;34m\u001b[0m\n\u001b[0;32m----> 1\u001b[0;31m \u001b[0mo\u001b[0m \u001b[0;34m=\u001b[0m \u001b[0mage\u001b[0m\u001b[0;34m.\u001b[0m\u001b[0mcreate_option\u001b[0m\u001b[0;34m(\u001b[0m\u001b[0;36m10\u001b[0m\u001b[0;34m,\u001b[0m \u001b[0;36m1\u001b[0m\u001b[0;34m,\u001b[0m \u001b[0;34m[\u001b[0m\u001b[0;36m1\u001b[0m\u001b[0;34m,\u001b[0m\u001b[0;36m4\u001b[0m\u001b[0;34m,\u001b[0m\u001b[0;36m7\u001b[0m\u001b[0;34m]\u001b[0m\u001b[0;34m,\u001b[0m \u001b[0;36m0.8\u001b[0m\u001b[0;34m)\u001b[0m\u001b[0;34m\u001b[0m\u001b[0;34m\u001b[0m\u001b[0m\n\u001b[0m",
      "\u001b[0;31mTypeError\u001b[0m: create_option() missing 1 required positional argument: 'opt_root'"
     ]
    }
   ],
   "source": [
    "o = age.create_option(10, 1, [1,4,7], 0.8)"
   ]
  },
  {
   "cell_type": "code",
   "execution_count": 67,
   "metadata": {},
   "outputs": [
    {
     "name": "stdout",
     "output_type": "stream",
     "text": [
      "O1 -> Off\n",
      "7       \n",
      "├── A1 [0]\n",
      "└── O7 -> Off [1]\n"
     ]
    }
   ],
   "source": [
    "o.print_tree()"
   ]
  },
  {
   "cell_type": "markdown",
   "metadata": {},
   "source": [
    "#### On refinement : On"
   ]
  },
  {
   "cell_type": "code",
   "execution_count": 69,
   "metadata": {},
   "outputs": [
    {
     "name": "stdout",
     "output_type": "stream",
     "text": [
      "0\n",
      "2       \n",
      "├── -0-> 1\n",
      "│   ├── -0-> 0.0\n",
      "│   └── -1-> 0.9\n",
      "└── -1-> 0\n"
     ]
    },
    {
     "data": {
      "text/plain": [
       "-26.276680663854943"
      ]
     },
     "execution_count": 69,
     "metadata": {},
     "output_type": "execute_result"
    }
   ],
   "source": [
    "importlib.reload(ag)\n",
    "age = ag.AbstractAgent(env)\n",
    "#Var 2 depend on var 1\n",
    "#var 1\n",
    "s_1_off = [0,0,0,0,0,0,0,0,0,0,0,0,0,0,0,0,0,0,0,0]\n",
    "s_1_on = [1,0,0,0,0,0,0,0,0,0,0,0,0,0,0,0,0,0,0,0]\n",
    "#var 2\n",
    "s_2_off = [1,0,0,0,0,0,0,0,0,0,0,0,0,0,0,0,0,0,0,0]\n",
    "s_2_on = [1,1,0,0,0,0,0,0,0,0,0,0,0,0,0,0,0,0,0,0]\n",
    "\n",
    "print(age.FMDP[2][\"cpts\"][2].compute_BIC_Mono())\n",
    "\n",
    "#1 off -> 1 off\n",
    "for _ in range(10):\n",
    "    age.update(s_1_off, 2, s_1_off)\n",
    "\n",
    "#1 on -> 2 on (90% of the time)\n",
    "for _ in range(9):\n",
    "    age.update(s_1_on, 2, s_2_on)\n",
    "\n",
    "#1 on -> 2 off (10%)\n",
    "for _ in range(1):\n",
    "    age.update(s_1_on, 2, s_1_off)\n",
    "    \n",
    "age.FMDP[2][\"cpts\"][2].print_tree()\n",
    "age.FMDP[2][\"cpts\"][2].children[0].children[1].compute_BIC_Mono()"
   ]
  },
  {
   "cell_type": "code",
   "execution_count": 70,
   "metadata": {},
   "outputs": [
    {
     "name": "stdout",
     "output_type": "stream",
     "text": [
      "O2 -> On\n",
      "1       \n",
      "├── A1 [0]\n",
      "└── A2 [1]\n"
     ]
    }
   ],
   "source": [
    "for o in age.options:\n",
    "    age.options[o].print_tree()"
   ]
  },
  {
   "cell_type": "markdown",
   "metadata": {},
   "source": [
    "#### On refinement : Off"
   ]
  },
  {
   "cell_type": "code",
   "execution_count": 71,
   "metadata": {},
   "outputs": [
    {
     "name": "stdout",
     "output_type": "stream",
     "text": [
      "0\n",
      "2       \n",
      "├── -0-> 1\n",
      "│   ├── -0-> 0.0\n",
      "│   └── -1-> 0.9\n",
      "└── -1-> 0\n",
      "O2 -> On\n"
     ]
    }
   ],
   "source": [
    "importlib.reload(ag)\n",
    "age = ag.AbstractAgent(env)\n",
    "#Var 2 depend on var 1\n",
    "#var 1\n",
    "s_1_off = [0,0,0,0,0,0,0,0,0,0,0,0,0,0,0,0,0,0,0,0]\n",
    "s_1_off_bis = [0,0,1,0,0,0,0,0,0,0,0,0,0,0,0,0,0,0,0,0]\n",
    "s_1_on = [1,0,0,0,0,0,0,0,0,0,0,0,0,0,0,0,0,0,0,0]\n",
    "#var 2\n",
    "s_2_off = [1,0,0,0,0,0,0,0,0,0,0,0,0,0,0,0,0,0,0,0]\n",
    "s_2_on = [1,1,0,0,0,0,0,0,0,0,0,0,0,0,0,0,0,0,0,0]\n",
    "\n",
    "print(age.FMDP[2][\"cpts\"][2].compute_BIC_Mono())\n",
    "\n",
    "#1 off -> 1 off\n",
    "for _ in range(10):\n",
    "    age.update(s_1_off, 2, s_1_off)\n",
    "    \n",
    "#1 off -> 1 off\n",
    "for _ in range(10):\n",
    "    age.update(s_1_off_bis, 2, s_1_off)\n",
    "\n",
    "#1 on -> 2 on (90% of the time)\n",
    "for _ in range(9):\n",
    "    age.update(s_1_on, 2, s_2_on)\n",
    "\n",
    "#1 on -> 2 off (10%)\n",
    "for _ in range(1):\n",
    "    age.update(s_1_on, 2, s_1_on)\n",
    "    \n",
    "age.FMDP[2][\"cpts\"][2].print_tree()\n",
    "age.FMDP[2][\"cpts\"][2].children[0].children[1].compute_BIC_Mono()\n",
    "\n",
    "#print(age.FMDP[2][\"cpts\"][4].children[0].children[1].parents_list)\n",
    "#for d in age.FMDP[2][\"cpts\"][4].children[0].children[0].dataset:\n",
    "#    print(\"{} ; {}\".format(d[\"s_0\"],d[\"s_1\"]))\n",
    "#print(\"------------------------------------------------\")\n",
    "\n",
    "#for d in age.FMDP[2][\"cpts\"][4].children[0].children[1].dataset:\n",
    "#    print(\"{} ; {}\".format(d[\"s_0\"],d[\"s_1\"]))\n",
    "for o in age.options:\n",
    "    print(age.options[o])"
   ]
  },
  {
   "cell_type": "code",
   "execution_count": 72,
   "metadata": {},
   "outputs": [
    {
     "name": "stdout",
     "output_type": "stream",
     "text": [
      "4       \n",
      "├── -0-> 0.0\n",
      "└── -1-> 0\n"
     ]
    }
   ],
   "source": [
    "age.FMDP[2][\"cpts\"][4].print_tree()"
   ]
  },
  {
   "cell_type": "code",
   "execution_count": 85,
   "metadata": {},
   "outputs": [
    {
     "name": "stdout",
     "output_type": "stream",
     "text": [
      "O2 -> On\n",
      "1       \n",
      "├── A1 [0]\n",
      "└── A2 [1]\n"
     ]
    }
   ],
   "source": [
    "for k in age.options:\n",
    "    o = age.options[k]\n",
    "    o.print_tree()"
   ]
  },
  {
   "cell_type": "markdown",
   "metadata": {},
   "source": []
  },
  {
   "cell_type": "code",
   "execution_count": null,
   "metadata": {},
   "outputs": [],
   "source": []
  },
  {
   "cell_type": "markdown",
   "metadata": {},
   "source": [
    "### Update sigma"
   ]
  },
  {
   "cell_type": "code",
   "execution_count": 88,
   "metadata": {},
   "outputs": [
    {
     "name": "stdout",
     "output_type": "stream",
     "text": [
      "0.6\n",
      "0.5\n",
      "0.5714285714285714\n",
      "0.625\n",
      "0.6666666666666666\n",
      "0.6\n"
     ]
    }
   ],
   "source": [
    "print(o.sig)\n",
    "o.update_sig(0)\n",
    "print(o.sig)\n",
    "o.update_sig(1)\n",
    "print(o.sig)\n",
    "o.update_sig(1)\n",
    "print(o.sig)\n",
    "o.update_sig(1)\n",
    "print(o.sig)\n",
    "o.update_sig(0)\n",
    "print(o.sig)"
   ]
  },
  {
   "cell_type": "code",
   "execution_count": null,
   "metadata": {},
   "outputs": [],
   "source": []
  },
  {
   "cell_type": "code",
   "execution_count": null,
   "metadata": {},
   "outputs": [],
   "source": []
  },
  {
   "cell_type": "markdown",
   "metadata": {},
   "source": [
    "### Steps"
   ]
  },
  {
   "cell_type": "code",
   "execution_count": null,
   "metadata": {},
   "outputs": [],
   "source": [
    "st = [0,0,0,0,0,0,0,0,0,0,0,0,0,0,0,0,0,0,0,0]\n",
    "print(o.next_step(st))\n",
    "print(o.done)"
   ]
  },
  {
   "cell_type": "code",
   "execution_count": null,
   "metadata": {},
   "outputs": [],
   "source": [
    "st = [1,0,0,0,0,0,0,0,0,0,0,0,0,0,0,0,0,0,0,0]\n",
    "print(o.next_step(st))\n",
    "print(o.done)"
   ]
  },
  {
   "cell_type": "code",
   "execution_count": null,
   "metadata": {},
   "outputs": [],
   "source": [
    "st = [1,0,0,1,0,0,0,0,0,0,0,0,0,0,0,0,0,0,0,0]\n",
    "print(o.next_step(st))\n",
    "print(o.done)"
   ]
  },
  {
   "cell_type": "code",
   "execution_count": null,
   "metadata": {},
   "outputs": [],
   "source": [
    "st = [1,0,0,1,0,0,1,0,0,0,0,0,0,0,0,0,0,0,0,0]\n",
    "print(o.next_step(st))\n",
    "print(o.done)"
   ]
  },
  {
   "cell_type": "code",
   "execution_count": null,
   "metadata": {},
   "outputs": [],
   "source": [
    "print(o.step)"
   ]
  },
  {
   "cell_type": "code",
   "execution_count": null,
   "metadata": {},
   "outputs": [],
   "source": [
    "print(age.C)\n",
    "print(age.queue_for_C)"
   ]
  },
  {
   "cell_type": "code",
   "execution_count": null,
   "metadata": {},
   "outputs": [],
   "source": [
    "age.C = [1,4,7]\n"
   ]
  },
  {
   "cell_type": "code",
   "execution_count": null,
   "metadata": {},
   "outputs": [],
   "source": [
    "age.check_update_C()\n",
    "print(age.C)\n",
    "print(age.queue_for_C)"
   ]
  },
  {
   "cell_type": "code",
   "execution_count": null,
   "metadata": {},
   "outputs": [],
   "source": [
    "age.options[10].print_tree()"
   ]
  },
  {
   "cell_type": "markdown",
   "metadata": {},
   "source": [
    "### Options Hierarchie"
   ]
  },
  {
   "cell_type": "code",
   "execution_count": 90,
   "metadata": {},
   "outputs": [
    {
     "ename": "AttributeError",
     "evalue": "'NoneType' object has no attribute 'used'",
     "output_type": "error",
     "traceback": [
      "\u001b[0;31m---------------------------------------------------------------------------\u001b[0m",
      "\u001b[0;31mAttributeError\u001b[0m                            Traceback (most recent call last)",
      "\u001b[0;32m<ipython-input-90-8bb32fc83725>\u001b[0m in \u001b[0;36m<module>\u001b[0;34m\u001b[0m\n\u001b[1;32m      2\u001b[0m \u001b[0mage\u001b[0m \u001b[0;34m=\u001b[0m \u001b[0mag\u001b[0m\u001b[0;34m.\u001b[0m\u001b[0mAbstractAgent\u001b[0m\u001b[0;34m(\u001b[0m\u001b[0menv\u001b[0m\u001b[0;34m)\u001b[0m\u001b[0;34m\u001b[0m\u001b[0;34m\u001b[0m\u001b[0m\n\u001b[1;32m      3\u001b[0m \u001b[0;34m\u001b[0m\u001b[0m\n\u001b[0;32m----> 4\u001b[0;31m \u001b[0mage\u001b[0m\u001b[0;34m.\u001b[0m\u001b[0mtry_option\u001b[0m\u001b[0;34m(\u001b[0m\u001b[0;36m10\u001b[0m\u001b[0;34m,\u001b[0m \u001b[0;36m1\u001b[0m\u001b[0;34m,\u001b[0m \u001b[0;34m[\u001b[0m\u001b[0;36m1\u001b[0m\u001b[0;34m,\u001b[0m\u001b[0;36m4\u001b[0m\u001b[0;34m,\u001b[0m\u001b[0;36m7\u001b[0m\u001b[0;34m]\u001b[0m\u001b[0;34m,\u001b[0m \u001b[0;36m1\u001b[0m\u001b[0;34m,\u001b[0m \u001b[0;32mNone\u001b[0m\u001b[0;34m)\u001b[0m\u001b[0;34m\u001b[0m\u001b[0;34m\u001b[0m\u001b[0m\n\u001b[0m",
      "\u001b[0;32m~/Documents/IAR/Hierarchical-Reinforcement-Learning/src/agents.py\u001b[0m in \u001b[0;36mtry_option\u001b[0;34m(self, var, target_value, parents, sig_0, opt_root)\u001b[0m\n\u001b[1;32m    170\u001b[0m         \u001b[0;31m#o.print_tree()\u001b[0m\u001b[0;34m\u001b[0m\u001b[0;34m\u001b[0m\u001b[0;34m\u001b[0m\u001b[0m\n\u001b[1;32m    171\u001b[0m         \u001b[0;31m#o.opt_root.parent.print_tree()\u001b[0m\u001b[0;34m\u001b[0m\u001b[0;34m\u001b[0m\u001b[0;34m\u001b[0m\u001b[0m\n\u001b[0;32m--> 172\u001b[0;31m         \u001b[0mopt_root\u001b[0m\u001b[0;34m.\u001b[0m\u001b[0mused\u001b[0m \u001b[0;34m=\u001b[0m \u001b[0;32mTrue\u001b[0m\u001b[0;34m\u001b[0m\u001b[0;34m\u001b[0m\u001b[0m\n\u001b[0m\u001b[1;32m    173\u001b[0m         \u001b[0;32mreturn\u001b[0m \u001b[0;32mTrue\u001b[0m\u001b[0;34m\u001b[0m\u001b[0;34m\u001b[0m\u001b[0m\n\u001b[1;32m    174\u001b[0m \u001b[0;34m\u001b[0m\u001b[0m\n",
      "\u001b[0;31mAttributeError\u001b[0m: 'NoneType' object has no attribute 'used'"
     ]
    }
   ],
   "source": [
    "importlib.reload(ag)\n",
    "age = ag.AbstractAgent(env)\n",
    "\n",
    "age.try_option(10, 1, [1,4,7], 1)"
   ]
  },
  {
   "cell_type": "code",
   "execution_count": null,
   "metadata": {},
   "outputs": [],
   "source": [
    "for k in age.options:\n",
    "    o = age.options[k]\n",
    "    o.print_tree()"
   ]
  },
  {
   "cell_type": "markdown",
   "metadata": {},
   "source": [
    "### Option creation on refinement"
   ]
  },
  {
   "cell_type": "markdown",
   "metadata": {},
   "source": [
    "#### 1 -> 10"
   ]
  },
  {
   "cell_type": "code",
   "execution_count": null,
   "metadata": {},
   "outputs": [],
   "source": [
    "importlib.reload(ag)\n",
    "age = ag.AbstractAgent(env)\n",
    "age.artificial_setup()\n",
    "print(age.C)\n",
    "#Var 2 depend on var 1\n",
    "#var 1\n",
    "s_1_off = [0,0,0,0,0,0,0,0,0,0,0,0,0,0,0,0,0,0,0,0]\n",
    "s_1_on = [1,0,0,0,0,0,0,0,0,0,0,0,0,0,0,0,0,0,0,0]\n",
    "#var 2\n",
    "s_10_off = [1,0,0,0,0,0,0,0,0,0,0,0,0,0,0,0,0,0,0,0]\n",
    "s_10_on = [1,0,0,0,0,0,0,0,0,1,0,0,0,0,0,0,0,0,0,0]\n",
    "\n",
    "print(age.FMDP[10][\"cpts\"][10].compute_BIC())\n",
    "\n",
    "#1 off -> 1 off\n",
    "for _ in range(12):\n",
    "    age.update(s_1_off, 10, s_1_off)\n",
    "\n",
    "#1 on -> 2 on (90% of the time)\n",
    "for _ in range(9):\n",
    "    age.update(s_1_on, 10, s_10_on)\n",
    "\n",
    "#1 on -> 2 off (10%)\n",
    "for _ in range(1):\n",
    "    age.update(s_1_on, 10, s_1_on)\n",
    "print(age.C)"
   ]
  },
  {
   "cell_type": "code",
   "execution_count": null,
   "metadata": {},
   "outputs": [],
   "source": [
    "print(age.options)\n",
    "age.options[10].print_tree()"
   ]
  },
  {
   "cell_type": "code",
   "execution_count": null,
   "metadata": {},
   "outputs": [],
   "source": [
    "for i_dbn in [10]:\n",
    "    print(\"-------MDP {} --------\".format(i_dbn))\n",
    "    for i_cpt in age.FMDP[i_dbn][\"cpts\"]:\n",
    "        print(\"---CPT {}---\".format(i_cpt))\n",
    "        age.FMDP[i_dbn][\"cpts\"][i_cpt].print_tree()"
   ]
  },
  {
   "cell_type": "markdown",
   "metadata": {},
   "source": [
    "#### 1-> 1"
   ]
  },
  {
   "cell_type": "code",
   "execution_count": null,
   "metadata": {},
   "outputs": [],
   "source": [
    "importlib.reload(ag)\n",
    "age = ag.AbstractAgent(env)\n",
    "age.artificial_setup()\n",
    "import numpy as np\n",
    "for i in range(100):\n",
    "    s1 = [0,0,0,0,0,0,0,0,0,0,0,0,0,0,0,0,0,0,0,0]\n",
    "    tmp = np.random.randint(10)\n",
    "    if(tmp<1):\n",
    "        s2=[0,0,0,0,0,0,0,0,0,0,0,0,0,0,0,0,0,0,0,0]\n",
    "    else:\n",
    "        s2=[1,0,0,0,0,0,0,0,0,0,0,0,0,0,0,0,0,0,0,0]\n",
    "    \n",
    "    age.update(s1, 1, s2)\n",
    "    age.update([1,0,0,0,0,0,0,0,0,0,0,0,0,0,0,0,0,0,0,0], 1, [1,0,0,0,0,0,0,0,0,0,0,0,0,0,0,0,0,0,0,0])\n",
    "        \n",
    "    \n",
    "\n",
    "for i_dbn in [1]:\n",
    "    print(\"-------MDP {} --------\".format(i_dbn))\n",
    "    for i_cpt in age.FMDP[i_dbn][\"cpts\"]:\n",
    "        print(\"---CPT {}---\".format(i_cpt))\n",
    "        age.FMDP[i_dbn][\"cpts\"][i_cpt].print_tree()"
   ]
  },
  {
   "cell_type": "markdown",
   "metadata": {},
   "source": [
    "#### 1,4,7 -> 10"
   ]
  },
  {
   "cell_type": "code",
   "execution_count": null,
   "metadata": {},
   "outputs": [],
   "source": [
    "importlib.reload(ag)\n",
    "age = ag.AbstractAgent(env)\n",
    "age.artificial_setup()\n",
    "import numpy as np\n",
    "for i in range(400):\n",
    "    s1 = [0,0,0,0,0,0,0,0,0,0,0,0,0,0,0,0,0,0,0,0]\n",
    "    tmp=0\n",
    "    for k in [0, 3, 6]:\n",
    "        if(np.random.rand() > 0.2):\n",
    "            s1[k]=1\n",
    "        tmp+=s1[k]\n",
    "    if(tmp<3):\n",
    "        s2=[0,0,0,0,0,0,0,0,0,0,0,0,0,0,0,0,0,0,0,0]\n",
    "    else:\n",
    "        s2 =s1.copy()\n",
    "        if(np.random.rand() > 0.2):\n",
    "            s2[9]=1\n",
    "            if(np.random.rand() > 0.4):\n",
    "                s1[9]=1\n",
    "    age.update(s1, 10, s2)\n",
    "        \n",
    "    \n",
    "\n",
    "for i_dbn in [10]:\n",
    "    print(\"-------MDP {} --------\".format(i_dbn))\n",
    "    for i_cpt in age.FMDP[i_dbn][\"cpts\"]:\n",
    "        print(\"---CPT {}---\".format(i_cpt))\n",
    "        age.FMDP[i_dbn][\"cpts\"][i_cpt].print_tree()"
   ]
  },
  {
   "cell_type": "code",
   "execution_count": null,
   "metadata": {},
   "outputs": [],
   "source": [
    "age.FMDP[10][\"cpts\"][10].print_tree()\n",
    "n174 = age.FMDP[10][\"cpts\"][10].children[1].children[1]\n",
    "n17 = age.FMDP[10][\"cpts\"][10]\n",
    "\n",
    "val= [0,0]\n",
    "for d in n17.children[0].dataset:\n",
    "    val[d[\"s_0\"][0]]+=1\n",
    "print(val)\n",
    "val= [0,0]\n",
    "\n",
    "#print(leaf.dataset)\n",
    "n174.chi_2()\n"
   ]
  },
  {
   "cell_type": "code",
   "execution_count": null,
   "metadata": {},
   "outputs": [],
   "source": [
    "age.FMDP[10][\"cpts\"][10].check_refinements([1,0,0,0,0,0,1,0,0,1,0,0,0,1,0,0,0,0,0,0])\n",
    "age.FMDP[10][\"cpts\"][10].print_tree()"
   ]
  },
  {
   "cell_type": "code",
   "execution_count": null,
   "metadata": {},
   "outputs": [],
   "source": [
    "age."
   ]
  },
  {
   "cell_type": "code",
   "execution_count": null,
   "metadata": {},
   "outputs": [],
   "source": [
    "importlib.reload(ag)\n",
    "age = ag.AbstractAgent(env)\n",
    "age.artificial_setup()\n",
    "import numpy as np\n",
    "lights = [1,4,7,10]\n",
    "for i in range(5000):\n",
    "    s1 = env.get_state()\n",
    "    j = np.random.randint(20)\n",
    "    env.turn_on(j+1)\n",
    "    s2 = env.get_state()\n",
    "    age.update(s1, j+1, s2)\n",
    "        \n",
    "    \n",
    "\n",
    "for i_dbn in [10]:#range(1,21):\n",
    "    print(\"-------DBN {} --------\".format(i_dbn))\n",
    "    for i_cpt in age.FMDP[i_dbn][\"cpts\"]:\n",
    "        print(\"---CPT {}---\".format(i_cpt))\n",
    "        age.FMDP[i_dbn][\"cpts\"][i_cpt].print_tree()\n",
    "        \n"
   ]
  },
  {
   "cell_type": "code",
   "execution_count": null,
   "metadata": {},
   "outputs": [],
   "source": [
    "for i_dbn in range(10, 16):#range(1,21):\n",
    "    print(\"-------DBN {} --------\".format(i_dbn))\n",
    "    for i_cpt in age.FMDP[i_dbn][\"cpts\"]:\n",
    "        print(\"---CPT {}---\".format(i_cpt))\n",
    "        age.FMDP[i_dbn][\"cpts\"][i_cpt].print_tree()"
   ]
  },
  {
   "cell_type": "code",
   "execution_count": null,
   "metadata": {},
   "outputs": [],
   "source": [
    "age.FMDP[1][\"cpts\"][1].print_tree()\n",
    "age.FMDP[1][\"cpts\"][1].chi_2()"
   ]
  },
  {
   "cell_type": "code",
   "execution_count": null,
   "metadata": {},
   "outputs": [],
   "source": [
    "age.FMDP[7][\"cpts\"][1].print_tree()\n",
    "leaf = age.FMDP[7][\"cpts\"][1].children[0].children[0].children[0].children[0].children[0]\n",
    "#print(leaf.dataset)\n",
    "leaf.chi_2(7)"
   ]
  },
  {
   "cell_type": "code",
   "execution_count": null,
   "metadata": {},
   "outputs": [],
   "source": [
    "print(age.options)"
   ]
  },
  {
   "cell_type": "markdown",
   "metadata": {},
   "source": [
    "### Option execution"
   ]
  },
  {
   "cell_type": "code",
   "execution_count": null,
   "metadata": {},
   "outputs": [],
   "source": [
    "age.options[10].print_tree()"
   ]
  },
  {
   "cell_type": "code",
   "execution_count": null,
   "metadata": {},
   "outputs": [],
   "source": [
    "age = ag.AbstractAgent(env)\n",
    "o = age.create_option(10, [1,4,7], 0.8)\n",
    "age.options[10].print_tree()"
   ]
  },
  {
   "cell_type": "code",
   "execution_count": null,
   "metadata": {},
   "outputs": [],
   "source": [
    "act = age.options[10].next_step(env.get_state())\n",
    "print(act)\n",
    "act.execute()\n",
    "print(age.options[10].step)\n",
    "print(age.options[10].done)\n",
    "age.env.show()"
   ]
  },
  {
   "cell_type": "code",
   "execution_count": null,
   "metadata": {},
   "outputs": [],
   "source": [
    "env.shut_down()\n",
    "age.env.show()"
   ]
  },
  {
   "cell_type": "code",
   "execution_count": null,
   "metadata": {},
   "outputs": [],
   "source": [
    "env.shut_down()\n",
    "age.env.show()"
   ]
  },
  {
   "cell_type": "code",
   "execution_count": null,
   "metadata": {},
   "outputs": [],
   "source": [
    "age.start()"
   ]
  },
  {
   "cell_type": "code",
   "execution_count": null,
   "metadata": {},
   "outputs": [],
   "source": [
    "env.show()"
   ]
  },
  {
   "cell_type": "code",
   "execution_count": null,
   "metadata": {},
   "outputs": [],
   "source": [
    "age.actions[1].execute()\n",
    "env.show()"
   ]
  },
  {
   "cell_type": "code",
   "execution_count": null,
   "metadata": {},
   "outputs": [],
   "source": [
    "from anytree import Node, RenderTree\n",
    "pop = Node(\"pop\")\n",
    "pep = Node(\"pep\", parent=pop)\n",
    "pap = Node(\"pap\")\n",
    "pap.parent = pop"
   ]
  },
  {
   "cell_type": "code",
   "execution_count": null,
   "metadata": {},
   "outputs": [],
   "source": [
    "print(RenderTree(pop))"
   ]
  },
  {
   "cell_type": "code",
   "execution_count": null,
   "metadata": {},
   "outputs": [],
   "source": [
    "pap.parent=None"
   ]
  },
  {
   "cell_type": "code",
   "execution_count": null,
   "metadata": {},
   "outputs": [],
   "source": [
    "print(len(pep.children))"
   ]
  },
  {
   "cell_type": "code",
   "execution_count": null,
   "metadata": {},
   "outputs": [],
   "source": [
    "print(pap)"
   ]
  },
  {
   "cell_type": "code",
   "execution_count": null,
   "metadata": {},
   "outputs": [],
   "source": [
    "pap2 = Node(\"pap\")"
   ]
  },
  {
   "cell_type": "code",
   "execution_count": null,
   "metadata": {},
   "outputs": [],
   "source": [
    "print(pap2)"
   ]
  },
  {
   "cell_type": "code",
   "execution_count": null,
   "metadata": {},
   "outputs": [],
   "source": [
    "print(pap)"
   ]
  },
  {
   "cell_type": "code",
   "execution_count": null,
   "metadata": {},
   "outputs": [],
   "source": [
    "False == 0"
   ]
  },
  {
   "cell_type": "code",
   "execution_count": null,
   "metadata": {},
   "outputs": [],
   "source": [
    "thisdict = {\n",
    "  \"brand\": \"Ford\",\n",
    "  \"model\": \"Mustang\",\n",
    "  \"year\": 1964\n",
    "}"
   ]
  },
  {
   "cell_type": "code",
   "execution_count": null,
   "metadata": {},
   "outputs": [],
   "source": [
    "thisdict[\"c\"]"
   ]
  },
  {
   "cell_type": "code",
   "execution_count": null,
   "metadata": {},
   "outputs": [],
   "source": [
    "print( \"brand\" in thisdict)"
   ]
  },
  {
   "cell_type": "code",
   "execution_count": null,
   "metadata": {},
   "outputs": [],
   "source": [
    "for i in thisdict:\n",
    "    print(i)"
   ]
  },
  {
   "cell_type": "code",
   "execution_count": null,
   "metadata": {},
   "outputs": [],
   "source": [
    "1/2"
   ]
  },
  {
   "cell_type": "code",
   "execution_count": null,
   "metadata": {},
   "outputs": [],
   "source": [
    "np.log(1)"
   ]
  },
  {
   "cell_type": "markdown",
   "metadata": {},
   "source": [
    "## Run agent"
   ]
  },
  {
   "cell_type": "code",
   "execution_count": 106,
   "metadata": {},
   "outputs": [
    {
     "data": {
      "image/svg+xml": [
       "<?xml version=\"1.0\" encoding=\"UTF-8\" standalone=\"no\"?>\n",
       "<!DOCTYPE svg PUBLIC \"-//W3C//DTD SVG 1.1//EN\"\n",
       " \"http://www.w3.org/Graphics/SVG/1.1/DTD/svg11.dtd\">\n",
       "<!-- Generated by graphviz version 2.40.1 (20161225.0304)\n",
       " -->\n",
       "<!-- Title: %3 Pages: 1 -->\n",
       "<svg width=\"638pt\" height=\"260pt\"\n",
       " viewBox=\"0.00 0.00 638.00 260.00\" xmlns=\"http://www.w3.org/2000/svg\" xmlns:xlink=\"http://www.w3.org/1999/xlink\">\n",
       "<g id=\"graph0\" class=\"graph\" transform=\"scale(1 1) rotate(0) translate(4 256)\">\n",
       "<title>%3</title>\n",
       "<polygon fill=\"#ffffff\" stroke=\"transparent\" points=\"-4,4 -4,-256 634,-256 634,4 -4,4\"/>\n",
       "<!-- 1 -->\n",
       "<g id=\"node1\" class=\"node\">\n",
       "<title>1</title>\n",
       "<ellipse fill=\"#d3d3d3\" stroke=\"#d3d3d3\" cx=\"99\" cy=\"-234\" rx=\"27\" ry=\"18\"/>\n",
       "<text text-anchor=\"middle\" x=\"99\" y=\"-230.3\" font-family=\"Times,serif\" font-size=\"14.00\" fill=\"#000000\">1</text>\n",
       "</g>\n",
       "<!-- 10 -->\n",
       "<g id=\"node10\" class=\"node\">\n",
       "<title>10</title>\n",
       "<ellipse fill=\"#d3d3d3\" stroke=\"#d3d3d3\" cx=\"99\" cy=\"-162\" rx=\"27\" ry=\"18\"/>\n",
       "<text text-anchor=\"middle\" x=\"99\" y=\"-158.3\" font-family=\"Times,serif\" font-size=\"14.00\" fill=\"#000000\">10</text>\n",
       "</g>\n",
       "<!-- 1&#45;&gt;10 -->\n",
       "<g id=\"edge1\" class=\"edge\">\n",
       "<title>1&#45;&gt;10</title>\n",
       "<path fill=\"none\" stroke=\"#000000\" d=\"M99,-215.8314C99,-208.131 99,-198.9743 99,-190.4166\"/>\n",
       "<polygon fill=\"#000000\" stroke=\"#000000\" points=\"102.5001,-190.4132 99,-180.4133 95.5001,-190.4133 102.5001,-190.4132\"/>\n",
       "</g>\n",
       "<!-- 2 -->\n",
       "<g id=\"node2\" class=\"node\">\n",
       "<title>2</title>\n",
       "<ellipse fill=\"#d3d3d3\" stroke=\"#d3d3d3\" cx=\"171\" cy=\"-234\" rx=\"27\" ry=\"18\"/>\n",
       "<text text-anchor=\"middle\" x=\"171\" y=\"-230.3\" font-family=\"Times,serif\" font-size=\"14.00\" fill=\"#000000\">2</text>\n",
       "</g>\n",
       "<!-- 11 -->\n",
       "<g id=\"node11\" class=\"node\">\n",
       "<title>11</title>\n",
       "<ellipse fill=\"#d3d3d3\" stroke=\"#d3d3d3\" cx=\"207\" cy=\"-162\" rx=\"27\" ry=\"18\"/>\n",
       "<text text-anchor=\"middle\" x=\"207\" y=\"-158.3\" font-family=\"Times,serif\" font-size=\"14.00\" fill=\"#000000\">11</text>\n",
       "</g>\n",
       "<!-- 2&#45;&gt;11 -->\n",
       "<g id=\"edge4\" class=\"edge\">\n",
       "<title>2&#45;&gt;11</title>\n",
       "<path fill=\"none\" stroke=\"#000000\" d=\"M179.7146,-216.5708C183.9597,-208.0807 189.1536,-197.6929 193.8663,-188.2674\"/>\n",
       "<polygon fill=\"#000000\" stroke=\"#000000\" points=\"197.024,-189.7782 198.3657,-179.2687 190.763,-186.6477 197.024,-189.7782\"/>\n",
       "</g>\n",
       "<!-- 13 -->\n",
       "<g id=\"node13\" class=\"node\">\n",
       "<title>13</title>\n",
       "<ellipse fill=\"#d3d3d3\" stroke=\"#d3d3d3\" cx=\"315\" cy=\"-162\" rx=\"27\" ry=\"18\"/>\n",
       "<text text-anchor=\"middle\" x=\"315\" y=\"-158.3\" font-family=\"Times,serif\" font-size=\"14.00\" fill=\"#000000\">13</text>\n",
       "</g>\n",
       "<!-- 2&#45;&gt;13 -->\n",
       "<g id=\"edge8\" class=\"edge\">\n",
       "<title>2&#45;&gt;13</title>\n",
       "<path fill=\"none\" stroke=\"#000000\" d=\"M192.8705,-223.0647C217.2222,-210.8889 256.762,-191.119 284.2285,-177.3858\"/>\n",
       "<polygon fill=\"#000000\" stroke=\"#000000\" points=\"286.0165,-180.4049 293.3955,-172.8022 282.886,-174.1439 286.0165,-180.4049\"/>\n",
       "</g>\n",
       "<!-- 3 -->\n",
       "<g id=\"node3\" class=\"node\">\n",
       "<title>3</title>\n",
       "<ellipse fill=\"#d3d3d3\" stroke=\"#d3d3d3\" cx=\"387\" cy=\"-234\" rx=\"27\" ry=\"18\"/>\n",
       "<text text-anchor=\"middle\" x=\"387\" y=\"-230.3\" font-family=\"Times,serif\" font-size=\"14.00\" fill=\"#000000\">3</text>\n",
       "</g>\n",
       "<!-- 12 -->\n",
       "<g id=\"node12\" class=\"node\">\n",
       "<title>12</title>\n",
       "<ellipse fill=\"#d3d3d3\" stroke=\"#d3d3d3\" cx=\"387\" cy=\"-162\" rx=\"27\" ry=\"18\"/>\n",
       "<text text-anchor=\"middle\" x=\"387\" y=\"-158.3\" font-family=\"Times,serif\" font-size=\"14.00\" fill=\"#000000\">12</text>\n",
       "</g>\n",
       "<!-- 3&#45;&gt;12 -->\n",
       "<g id=\"edge6\" class=\"edge\">\n",
       "<title>3&#45;&gt;12</title>\n",
       "<path fill=\"none\" stroke=\"#000000\" d=\"M387,-215.8314C387,-208.131 387,-198.9743 387,-190.4166\"/>\n",
       "<polygon fill=\"#000000\" stroke=\"#000000\" points=\"390.5001,-190.4132 387,-180.4133 383.5001,-190.4133 390.5001,-190.4132\"/>\n",
       "</g>\n",
       "<!-- 3&#45;&gt;13 -->\n",
       "<g id=\"edge9\" class=\"edge\">\n",
       "<title>3&#45;&gt;13</title>\n",
       "<path fill=\"none\" stroke=\"#000000\" d=\"M371.7307,-218.7307C361.803,-208.803 348.6847,-195.6847 337.5637,-184.5637\"/>\n",
       "<polygon fill=\"#000000\" stroke=\"#000000\" points=\"339.7933,-181.8436 330.2473,-177.2473 334.8436,-186.7933 339.7933,-181.8436\"/>\n",
       "</g>\n",
       "<!-- 4 -->\n",
       "<g id=\"node4\" class=\"node\">\n",
       "<title>4</title>\n",
       "<ellipse fill=\"#d3d3d3\" stroke=\"#d3d3d3\" cx=\"27\" cy=\"-234\" rx=\"27\" ry=\"18\"/>\n",
       "<text text-anchor=\"middle\" x=\"27\" y=\"-230.3\" font-family=\"Times,serif\" font-size=\"14.00\" fill=\"#000000\">4</text>\n",
       "</g>\n",
       "<!-- 4&#45;&gt;10 -->\n",
       "<g id=\"edge2\" class=\"edge\">\n",
       "<title>4&#45;&gt;10</title>\n",
       "<path fill=\"none\" stroke=\"#000000\" d=\"M42.2693,-218.7307C52.197,-208.803 65.3153,-195.6847 76.4363,-184.5637\"/>\n",
       "<polygon fill=\"#000000\" stroke=\"#000000\" points=\"79.1564,-186.7933 83.7527,-177.2473 74.2067,-181.8436 79.1564,-186.7933\"/>\n",
       "</g>\n",
       "<!-- 5 -->\n",
       "<g id=\"node5\" class=\"node\">\n",
       "<title>5</title>\n",
       "<ellipse fill=\"#d3d3d3\" stroke=\"#d3d3d3\" cx=\"315\" cy=\"-234\" rx=\"27\" ry=\"18\"/>\n",
       "<text text-anchor=\"middle\" x=\"315\" y=\"-230.3\" font-family=\"Times,serif\" font-size=\"14.00\" fill=\"#000000\">5</text>\n",
       "</g>\n",
       "<!-- 5&#45;&gt;11 -->\n",
       "<g id=\"edge5\" class=\"edge\">\n",
       "<title>5&#45;&gt;11</title>\n",
       "<path fill=\"none\" stroke=\"#000000\" d=\"M295.6918,-221.1278C278.6445,-209.763 253.5981,-193.0654 234.4656,-180.3104\"/>\n",
       "<polygon fill=\"#000000\" stroke=\"#000000\" points=\"236.4031,-177.3956 226.1411,-174.7607 232.5201,-183.2199 236.4031,-177.3956\"/>\n",
       "</g>\n",
       "<!-- 14 -->\n",
       "<g id=\"node14\" class=\"node\">\n",
       "<title>14</title>\n",
       "<ellipse fill=\"#d3d3d3\" stroke=\"#d3d3d3\" cx=\"459\" cy=\"-162\" rx=\"27\" ry=\"18\"/>\n",
       "<text text-anchor=\"middle\" x=\"459\" y=\"-158.3\" font-family=\"Times,serif\" font-size=\"14.00\" fill=\"#000000\">14</text>\n",
       "</g>\n",
       "<!-- 5&#45;&gt;14 -->\n",
       "<g id=\"edge10\" class=\"edge\">\n",
       "<title>5&#45;&gt;14</title>\n",
       "<path fill=\"none\" stroke=\"#000000\" d=\"M336.8705,-223.0647C361.2222,-210.8889 400.762,-191.119 428.2285,-177.3858\"/>\n",
       "<polygon fill=\"#000000\" stroke=\"#000000\" points=\"430.0165,-180.4049 437.3955,-172.8022 426.886,-174.1439 430.0165,-180.4049\"/>\n",
       "</g>\n",
       "<!-- 6 -->\n",
       "<g id=\"node6\" class=\"node\">\n",
       "<title>6</title>\n",
       "<ellipse fill=\"#d3d3d3\" stroke=\"#d3d3d3\" cx=\"459\" cy=\"-234\" rx=\"27\" ry=\"18\"/>\n",
       "<text text-anchor=\"middle\" x=\"459\" y=\"-230.3\" font-family=\"Times,serif\" font-size=\"14.00\" fill=\"#000000\">6</text>\n",
       "</g>\n",
       "<!-- 6&#45;&gt;12 -->\n",
       "<g id=\"edge7\" class=\"edge\">\n",
       "<title>6&#45;&gt;12</title>\n",
       "<path fill=\"none\" stroke=\"#000000\" d=\"M443.7307,-218.7307C433.803,-208.803 420.6847,-195.6847 409.5637,-184.5637\"/>\n",
       "<polygon fill=\"#000000\" stroke=\"#000000\" points=\"411.7933,-181.8436 402.2473,-177.2473 406.8436,-186.7933 411.7933,-181.8436\"/>\n",
       "</g>\n",
       "<!-- 6&#45;&gt;14 -->\n",
       "<g id=\"edge11\" class=\"edge\">\n",
       "<title>6&#45;&gt;14</title>\n",
       "<path fill=\"none\" stroke=\"#000000\" d=\"M459,-215.8314C459,-208.131 459,-198.9743 459,-190.4166\"/>\n",
       "<polygon fill=\"#000000\" stroke=\"#000000\" points=\"462.5001,-190.4132 459,-180.4133 455.5001,-190.4133 462.5001,-190.4132\"/>\n",
       "</g>\n",
       "<!-- 7 -->\n",
       "<g id=\"node7\" class=\"node\">\n",
       "<title>7</title>\n",
       "<ellipse fill=\"#d3d3d3\" stroke=\"#d3d3d3\" cx=\"243\" cy=\"-234\" rx=\"27\" ry=\"18\"/>\n",
       "<text text-anchor=\"middle\" x=\"243\" y=\"-230.3\" font-family=\"Times,serif\" font-size=\"14.00\" fill=\"#000000\">7</text>\n",
       "</g>\n",
       "<!-- 7&#45;&gt;10 -->\n",
       "<g id=\"edge3\" class=\"edge\">\n",
       "<title>7&#45;&gt;10</title>\n",
       "<path fill=\"none\" stroke=\"#000000\" d=\"M221.1295,-223.0647C196.7778,-210.8889 157.238,-191.119 129.7715,-177.3858\"/>\n",
       "<polygon fill=\"#000000\" stroke=\"#000000\" points=\"131.114,-174.1439 120.6045,-172.8022 127.9835,-180.4049 131.114,-174.1439\"/>\n",
       "</g>\n",
       "<!-- 15 -->\n",
       "<g id=\"node15\" class=\"node\">\n",
       "<title>15</title>\n",
       "<ellipse fill=\"#d3d3d3\" stroke=\"#d3d3d3\" cx=\"531\" cy=\"-162\" rx=\"27\" ry=\"18\"/>\n",
       "<text text-anchor=\"middle\" x=\"531\" y=\"-158.3\" font-family=\"Times,serif\" font-size=\"14.00\" fill=\"#000000\">15</text>\n",
       "</g>\n",
       "<!-- 7&#45;&gt;15 -->\n",
       "<g id=\"edge12\" class=\"edge\">\n",
       "<title>7&#45;&gt;15</title>\n",
       "<path fill=\"none\" stroke=\"#000000\" d=\"M263.8749,-222.2531C268.7251,-219.8959 273.9497,-217.6423 279,-216 371.5536,-185.9031 402.4464,-210.0969 495,-180 496.8939,-179.3841 498.8123,-178.6823 500.7262,-177.9213\"/>\n",
       "<polygon fill=\"#000000\" stroke=\"#000000\" points=\"502.4066,-181.0047 510.1251,-173.7469 499.5653,-174.6073 502.4066,-181.0047\"/>\n",
       "</g>\n",
       "<!-- 8 -->\n",
       "<g id=\"node8\" class=\"node\">\n",
       "<title>8</title>\n",
       "<ellipse fill=\"#d3d3d3\" stroke=\"#d3d3d3\" cx=\"603\" cy=\"-234\" rx=\"27\" ry=\"18\"/>\n",
       "<text text-anchor=\"middle\" x=\"603\" y=\"-230.3\" font-family=\"Times,serif\" font-size=\"14.00\" fill=\"#000000\">8</text>\n",
       "</g>\n",
       "<!-- 8&#45;&gt;15 -->\n",
       "<g id=\"edge13\" class=\"edge\">\n",
       "<title>8&#45;&gt;15</title>\n",
       "<path fill=\"none\" stroke=\"#000000\" d=\"M587.7307,-218.7307C577.803,-208.803 564.6847,-195.6847 553.5637,-184.5637\"/>\n",
       "<polygon fill=\"#000000\" stroke=\"#000000\" points=\"555.7933,-181.8436 546.2473,-177.2473 550.8436,-186.7933 555.7933,-181.8436\"/>\n",
       "</g>\n",
       "<!-- 9 -->\n",
       "<g id=\"node9\" class=\"node\">\n",
       "<title>9</title>\n",
       "<ellipse fill=\"#d3d3d3\" stroke=\"#d3d3d3\" cx=\"531\" cy=\"-234\" rx=\"27\" ry=\"18\"/>\n",
       "<text text-anchor=\"middle\" x=\"531\" y=\"-230.3\" font-family=\"Times,serif\" font-size=\"14.00\" fill=\"#000000\">9</text>\n",
       "</g>\n",
       "<!-- 9&#45;&gt;15 -->\n",
       "<g id=\"edge14\" class=\"edge\">\n",
       "<title>9&#45;&gt;15</title>\n",
       "<path fill=\"none\" stroke=\"#000000\" d=\"M531,-215.8314C531,-208.131 531,-198.9743 531,-190.4166\"/>\n",
       "<polygon fill=\"#000000\" stroke=\"#000000\" points=\"534.5001,-190.4132 531,-180.4133 527.5001,-190.4133 534.5001,-190.4132\"/>\n",
       "</g>\n",
       "<!-- 16 -->\n",
       "<g id=\"node16\" class=\"node\">\n",
       "<title>16</title>\n",
       "<ellipse fill=\"#d3d3d3\" stroke=\"#d3d3d3\" cx=\"171\" cy=\"-90\" rx=\"27\" ry=\"18\"/>\n",
       "<text text-anchor=\"middle\" x=\"171\" y=\"-86.3\" font-family=\"Times,serif\" font-size=\"14.00\" fill=\"#000000\">16</text>\n",
       "</g>\n",
       "<!-- 10&#45;&gt;16 -->\n",
       "<g id=\"edge15\" class=\"edge\">\n",
       "<title>10&#45;&gt;16</title>\n",
       "<path fill=\"none\" stroke=\"#000000\" d=\"M114.2693,-146.7307C124.197,-136.803 137.3153,-123.6847 148.4363,-112.5637\"/>\n",
       "<polygon fill=\"#000000\" stroke=\"#000000\" points=\"151.1564,-114.7933 155.7527,-105.2473 146.2067,-109.8436 151.1564,-114.7933\"/>\n",
       "</g>\n",
       "<!-- 11&#45;&gt;16 -->\n",
       "<g id=\"edge16\" class=\"edge\">\n",
       "<title>11&#45;&gt;16</title>\n",
       "<path fill=\"none\" stroke=\"#000000\" d=\"M198.2854,-144.5708C194.0403,-136.0807 188.8464,-125.6929 184.1337,-116.2674\"/>\n",
       "<polygon fill=\"#000000\" stroke=\"#000000\" points=\"187.237,-114.6477 179.6343,-107.2687 180.976,-117.7782 187.237,-114.6477\"/>\n",
       "</g>\n",
       "<!-- 17 -->\n",
       "<g id=\"node17\" class=\"node\">\n",
       "<title>17</title>\n",
       "<ellipse fill=\"#d3d3d3\" stroke=\"#d3d3d3\" cx=\"315\" cy=\"-90\" rx=\"27\" ry=\"18\"/>\n",
       "<text text-anchor=\"middle\" x=\"315\" y=\"-86.3\" font-family=\"Times,serif\" font-size=\"14.00\" fill=\"#000000\">17</text>\n",
       "</g>\n",
       "<!-- 11&#45;&gt;17 -->\n",
       "<g id=\"edge17\" class=\"edge\">\n",
       "<title>11&#45;&gt;17</title>\n",
       "<path fill=\"none\" stroke=\"#000000\" d=\"M226.3082,-149.1278C243.3555,-137.763 268.4019,-121.0654 287.5344,-108.3104\"/>\n",
       "<polygon fill=\"#000000\" stroke=\"#000000\" points=\"289.4799,-111.2199 295.8589,-102.7607 285.5969,-105.3956 289.4799,-111.2199\"/>\n",
       "</g>\n",
       "<!-- 12&#45;&gt;17 -->\n",
       "<g id=\"edge18\" class=\"edge\">\n",
       "<title>12&#45;&gt;17</title>\n",
       "<path fill=\"none\" stroke=\"#000000\" d=\"M371.7307,-146.7307C361.803,-136.803 348.6847,-123.6847 337.5637,-112.5637\"/>\n",
       "<polygon fill=\"#000000\" stroke=\"#000000\" points=\"339.7933,-109.8436 330.2473,-105.2473 334.8436,-114.7933 339.7933,-109.8436\"/>\n",
       "</g>\n",
       "<!-- 18 -->\n",
       "<g id=\"node18\" class=\"node\">\n",
       "<title>18</title>\n",
       "<ellipse fill=\"#d3d3d3\" stroke=\"#d3d3d3\" cx=\"387\" cy=\"-90\" rx=\"27\" ry=\"18\"/>\n",
       "<text text-anchor=\"middle\" x=\"387\" y=\"-86.3\" font-family=\"Times,serif\" font-size=\"14.00\" fill=\"#000000\">18</text>\n",
       "</g>\n",
       "<!-- 13&#45;&gt;18 -->\n",
       "<g id=\"edge19\" class=\"edge\">\n",
       "<title>13&#45;&gt;18</title>\n",
       "<path fill=\"none\" stroke=\"#000000\" d=\"M330.2693,-146.7307C340.197,-136.803 353.3153,-123.6847 364.4363,-112.5637\"/>\n",
       "<polygon fill=\"#000000\" stroke=\"#000000\" points=\"367.1564,-114.7933 371.7527,-105.2473 362.2067,-109.8436 367.1564,-114.7933\"/>\n",
       "</g>\n",
       "<!-- 14&#45;&gt;18 -->\n",
       "<g id=\"edge20\" class=\"edge\">\n",
       "<title>14&#45;&gt;18</title>\n",
       "<path fill=\"none\" stroke=\"#000000\" d=\"M443.7307,-146.7307C433.803,-136.803 420.6847,-123.6847 409.5637,-112.5637\"/>\n",
       "<polygon fill=\"#000000\" stroke=\"#000000\" points=\"411.7933,-109.8436 402.2473,-105.2473 406.8436,-114.7933 411.7933,-109.8436\"/>\n",
       "</g>\n",
       "<!-- 19 -->\n",
       "<g id=\"node19\" class=\"node\">\n",
       "<title>19</title>\n",
       "<ellipse fill=\"#d3d3d3\" stroke=\"#d3d3d3\" cx=\"495\" cy=\"-90\" rx=\"27\" ry=\"18\"/>\n",
       "<text text-anchor=\"middle\" x=\"495\" y=\"-86.3\" font-family=\"Times,serif\" font-size=\"14.00\" fill=\"#000000\">19</text>\n",
       "</g>\n",
       "<!-- 14&#45;&gt;19 -->\n",
       "<g id=\"edge21\" class=\"edge\">\n",
       "<title>14&#45;&gt;19</title>\n",
       "<path fill=\"none\" stroke=\"#000000\" d=\"M467.7146,-144.5708C471.9597,-136.0807 477.1536,-125.6929 481.8663,-116.2674\"/>\n",
       "<polygon fill=\"#000000\" stroke=\"#000000\" points=\"485.024,-117.7782 486.3657,-107.2687 478.763,-114.6477 485.024,-117.7782\"/>\n",
       "</g>\n",
       "<!-- 15&#45;&gt;19 -->\n",
       "<g id=\"edge22\" class=\"edge\">\n",
       "<title>15&#45;&gt;19</title>\n",
       "<path fill=\"none\" stroke=\"#000000\" d=\"M522.2854,-144.5708C518.0403,-136.0807 512.8464,-125.6929 508.1337,-116.2674\"/>\n",
       "<polygon fill=\"#000000\" stroke=\"#000000\" points=\"511.237,-114.6477 503.6343,-107.2687 504.976,-117.7782 511.237,-114.6477\"/>\n",
       "</g>\n",
       "<!-- 20 -->\n",
       "<g id=\"node20\" class=\"node\">\n",
       "<title>20</title>\n",
       "<ellipse fill=\"#d3d3d3\" stroke=\"#d3d3d3\" cx=\"351\" cy=\"-18\" rx=\"27\" ry=\"18\"/>\n",
       "<text text-anchor=\"middle\" x=\"351\" y=\"-14.3\" font-family=\"Times,serif\" font-size=\"14.00\" fill=\"#000000\">20</text>\n",
       "</g>\n",
       "<!-- 17&#45;&gt;20 -->\n",
       "<g id=\"edge23\" class=\"edge\">\n",
       "<title>17&#45;&gt;20</title>\n",
       "<path fill=\"none\" stroke=\"#000000\" d=\"M323.7146,-72.5708C327.9597,-64.0807 333.1536,-53.6929 337.8663,-44.2674\"/>\n",
       "<polygon fill=\"#000000\" stroke=\"#000000\" points=\"341.024,-45.7782 342.3657,-35.2687 334.763,-42.6477 341.024,-45.7782\"/>\n",
       "</g>\n",
       "<!-- 18&#45;&gt;20 -->\n",
       "<g id=\"edge24\" class=\"edge\">\n",
       "<title>18&#45;&gt;20</title>\n",
       "<path fill=\"none\" stroke=\"#000000\" d=\"M378.2854,-72.5708C374.0403,-64.0807 368.8464,-53.6929 364.1337,-44.2674\"/>\n",
       "<polygon fill=\"#000000\" stroke=\"#000000\" points=\"367.237,-42.6477 359.6343,-35.2687 360.976,-45.7782 367.237,-42.6477\"/>\n",
       "</g>\n",
       "</g>\n",
       "</svg>\n"
      ],
      "text/plain": [
       "<graphviz.dot.Digraph at 0x7fc520c37710>"
      ]
     },
     "execution_count": 106,
     "metadata": {},
     "output_type": "execute_result"
    }
   ],
   "source": [
    "importlib.reload(lb)\n",
    "importlib.reload(ag)\n",
    "age = ag.AbstractAgent(env)\n",
    "env.shut_down()\n",
    "age.env.show()"
   ]
  },
  {
   "cell_type": "code",
   "execution_count": 107,
   "metadata": {},
   "outputs": [
    {
     "data": {
      "text/plain": [
       "{1, 2, 3, 4, 5, 6, 7, 8, 9}"
      ]
     },
     "execution_count": 107,
     "metadata": {},
     "output_type": "execute_result"
    }
   ],
   "source": [
    "age.C"
   ]
  },
  {
   "cell_type": "code",
   "execution_count": 108,
   "metadata": {},
   "outputs": [
    {
     "name": "stdout",
     "output_type": "stream",
     "text": [
      "5.0%\n",
      "10.0%\n",
      "15.0%\n",
      "20.0%\n",
      "25.0%\n",
      "30.0%\n",
      "35.0%\n",
      "40.0%\n",
      "45.0%\n",
      "50.0%\n",
      "60.0%\n",
      "65.0%\n",
      "70.0%\n",
      "75.0%\n",
      "80.0%\n",
      "85.0%\n",
      "90.0%\n",
      "95.0%\n",
      "100.0%\n"
     ]
    }
   ],
   "source": [
    "age.start()"
   ]
  },
  {
   "cell_type": "code",
   "execution_count": null,
   "metadata": {},
   "outputs": [],
   "source": []
  },
  {
   "cell_type": "code",
   "execution_count": null,
   "metadata": {},
   "outputs": [],
   "source": [
    "for i_dbn in [10]:#range(1,21):\n",
    "    print(\"-------DBN {} --------\".format(i_dbn))\n",
    "    for i_cpt in age.FMDP[i_dbn][\"cpts\"]:\n",
    "        print(\"---CPT {}---\".format(i_cpt))\n",
    "        age.FMDP[i_dbn][\"cpts\"][i_cpt].print_tree()"
   ]
  },
  {
   "cell_type": "code",
   "execution_count": 109,
   "metadata": {},
   "outputs": [
    {
     "name": "stdout",
     "output_type": "stream",
     "text": [
      "O10 -> On\n",
      "4       \n",
      "├── A4 [0]\n",
      "└── 1 [1]\n",
      "    ├── A1 [0]\n",
      "    └── 7 [1]\n",
      "        ├── A7 [0]\n",
      "        └── A10 [1]\n",
      "10      \n",
      "├── -0-> 4\n",
      "│   ├── -0-> 0.0\n",
      "│   └── -1-> 1\n",
      "│       ├── -0-> 0.0\n",
      "│       └── -1-> 7\n",
      "│           ├── -0-> 0.0\n",
      "│           └── -1-> 1.0\n",
      "└── -1-> 0.0\n",
      "True\n",
      "-----------------------\n",
      "O7 -> Off\n",
      "4       \n",
      "├── A7 [0]\n",
      "└── O4 -> Off [1]\n",
      "7       \n",
      "├── -0-> 0.0\n",
      "└── -1-> 4\n",
      "    ├── -0-> 0.05263254091415375\n",
      "    └── -1-> 1\n",
      "        ├── -0-> 0.15384615384615385\n",
      "        └── -1-> 1.0\n",
      "True\n",
      "-----------------------\n",
      "O3 -> Off\n",
      "10      \n",
      "├── A3 [0]\n",
      "└── A10 [1]\n",
      "3       \n",
      "├── -0-> 0.0\n",
      "└── -1-> 10\n",
      "    ├── -0-> 0.18333418304834148\n",
      "    └── -1-> 1.0\n",
      "True\n",
      "-----------------------\n",
      "O1 -> Off\n",
      "4       \n",
      "├── A1 [0]\n",
      "└── O4 -> Off [1]\n",
      "1       \n",
      "├── -0-> 0.0\n",
      "└── -1-> 4\n",
      "    ├── -0-> 0.08108268672801365\n",
      "    └── -1-> 7\n",
      "        ├── -0-> 0.06666666666666667\n",
      "        └── -1-> 1.0\n",
      "True\n",
      "-----------------------\n",
      "O4 -> Off\n",
      "1       \n",
      "├── O1 -> Off [1]\n",
      "└── 10 [1]\n",
      "    ├── A4 [0]\n",
      "    └── A10 [1]\n",
      "4       \n",
      "├── -0-> 0.0\n",
      "└── -1-> 1\n",
      "    ├── -0-> 10\n",
      "    │   ├── -0-> 0.05405512448448736\n",
      "    │   └── -1-> 1.0\n",
      "    └── -1-> 7\n",
      "        ├── -0-> 0.06666666666666667\n",
      "        └── -1-> 1.0\n",
      "True\n",
      "-----------------------\n",
      "O2 -> Off\n",
      "4       \n",
      "├── A2 [0]\n",
      "└── O4 -> Off [1]\n",
      "2       \n",
      "├── -0-> 0.0\n",
      "└── -1-> 4\n",
      "    ├── -0-> 0.05555674965133658\n",
      "    └── -1-> 7\n",
      "        ├── -0-> 0.11764705882352941\n",
      "        └── -1-> 0.7142857142857143\n",
      "True\n",
      "-----------------------\n",
      "O6 -> Off\n",
      "10      \n",
      "├── A6 [0]\n",
      "└── A10 [1]\n",
      "6       \n",
      "├── -0-> 0.0\n",
      "└── -1-> 10\n",
      "    ├── -0-> 0.12856888645616318\n",
      "    └── -1-> 1.0\n",
      "True\n",
      "-----------------------\n"
     ]
    }
   ],
   "source": [
    "for o in age.options:\n",
    "    age.options[o].print_tree()\n",
    "    age.options[o].opt_root.parent.print_tree()\n",
    "    print(age.options[o].opt_root.used)\n",
    "    print(\"-----------------------\")"
   ]
  },
  {
   "cell_type": "code",
   "execution_count": 116,
   "metadata": {},
   "outputs": [
    {
     "name": "stdout",
     "output_type": "stream",
     "text": [
      "O10 -> On\n",
      "4       \n",
      "├── A4 [0]\n",
      "└── 1 [1]\n",
      "    ├── A1 [0]\n",
      "    └── 7 [1]\n",
      "        ├── A7 [0]\n",
      "        └── A10 [1]\n",
      "<agents.AbstractAgent.Option.OptionTreeNode object at 0x7fc51d9e89b0>\n",
      "<agents.AbstractAgent.Option.OptionTreeNode object at 0x7fc51d9e8390>\n",
      "<agents.AbstractAgent.Option.OptionTreeNode object at 0x7fc51d9e8438>\n",
      "<agents.AbstractAgent.Option.OptionTreeNode object at 0x7fc51d9e84e0>\n",
      "<agents.AbstractAgent.Option.OptionTreeNode object at 0x7fc51d9e86d8>\n",
      "<agents.AbstractAgent.Option.OptionTreeNode object at 0x7fc51d9e80f0>\n",
      "<agents.AbstractAgent.Option.OptionTreeNode object at 0x7fc51d9e8d68>\n",
      "-------------------------------------------\n",
      "O7 -> Off\n",
      "4       \n",
      "├── A7 [0]\n",
      "└── O4 -> Off [1]\n",
      "<agents.AbstractAgent.Option.OptionTreeNode object at 0x7fc51d99a668>\n",
      "<agents.AbstractAgent.Option.OptionTreeNode object at 0x7fc51466c940>\n",
      "<agents.AbstractAgent.Option.OptionTreeNode object at 0x7fc51d99aba8>\n",
      "O9 -> Off\n",
      "O9 -> Off\n",
      "O9 -> Off\n",
      "O9 -> Off\n",
      "-------------------------------------------\n",
      "O3 -> Off\n",
      "10      \n",
      "├── A3 [0]\n",
      "└── A10 [1]\n",
      "<agents.AbstractAgent.Option.OptionTreeNode object at 0x7fc514615908>\n",
      "<agents.AbstractAgent.Option.OptionTreeNode object at 0x7fc5146151d0>\n",
      "<agents.AbstractAgent.Option.OptionTreeNode object at 0x7fc514615dd8>\n",
      "O2 -> Off\n",
      "O5 -> Off\n",
      "-------------------------------------------\n",
      "O1 -> Off\n",
      "4       \n",
      "├── A1 [0]\n",
      "└── O4 -> Off [1]\n",
      "<agents.AbstractAgent.Option.OptionTreeNode object at 0x7fc514675fd0>\n",
      "<agents.AbstractAgent.Option.OptionTreeNode object at 0x7fc514675358>\n",
      "<agents.AbstractAgent.Option.OptionTreeNode object at 0x7fc514675898>\n",
      "O4 -> Off\n",
      "-------------------------------------------\n",
      "O4 -> Off\n",
      "1       \n",
      "├── O1 -> Off [1]\n",
      "└── 10 [1]\n",
      "    ├── A4 [0]\n",
      "    └── A10 [1]\n",
      "<agents.AbstractAgent.Option.OptionTreeNode object at 0x7fc51dad5a90>\n",
      "<agents.AbstractAgent.Option.OptionTreeNode object at 0x7fc51dad5630>\n",
      "<agents.AbstractAgent.Option.OptionTreeNode object at 0x7fc51dad5cc0>\n",
      "<agents.AbstractAgent.Option.OptionTreeNode object at 0x7fc51dad5c88>\n",
      "<agents.AbstractAgent.Option.OptionTreeNode object at 0x7fc51dad5860>\n",
      "O2 -> Off\n",
      "-------------------------------------------\n",
      "O2 -> Off\n",
      "4       \n",
      "├── A2 [0]\n",
      "└── O4 -> Off [1]\n",
      "<agents.AbstractAgent.Option.OptionTreeNode object at 0x7fc51dad5f60>\n",
      "<agents.AbstractAgent.Option.OptionTreeNode object at 0x7fc516953dd8>\n",
      "<agents.AbstractAgent.Option.OptionTreeNode object at 0x7fc516953ac8>\n",
      "O6 -> Off\n",
      "-------------------------------------------\n",
      "O6 -> Off\n",
      "10      \n",
      "├── A6 [0]\n",
      "└── A10 [1]\n",
      "<agents.AbstractAgent.Option.OptionTreeNode object at 0x7fc5146752e8>\n",
      "<agents.AbstractAgent.Option.OptionTreeNode object at 0x7fc5146750f0>\n",
      "<agents.AbstractAgent.Option.OptionTreeNode object at 0x7fc514675198>\n",
      "-------------------------------------------\n"
     ]
    }
   ],
   "source": [
    "from anytree import Node, RenderTree, AsciiStyle, LevelOrderIter\n",
    "age.options_hierarchies\n",
    "for o in age.options_hierarchies:\n",
    "    o.print_tree()\n",
    "    for node in LevelOrderIter(o.root):\n",
    "        print(node.solution)\n",
    "    for n in age.options_hierarchies[o]:\n",
    "        print(n)\n",
    "    print(\"-------------------------------------------\")"
   ]
  },
  {
   "cell_type": "code",
   "execution_count": 15,
   "metadata": {},
   "outputs": [
    {
     "ename": "KeyError",
     "evalue": "(10, 1)",
     "output_type": "error",
     "traceback": [
      "\u001b[0;31m---------------------------------------------------------------------------\u001b[0m",
      "\u001b[0;31mKeyError\u001b[0m                                  Traceback (most recent call last)",
      "\u001b[0;32m<ipython-input-15-80d6650b42de>\u001b[0m in \u001b[0;36m<module>\u001b[0;34m\u001b[0m\n\u001b[0;32m----> 1\u001b[0;31m \u001b[0mage\u001b[0m\u001b[0;34m.\u001b[0m\u001b[0mremove\u001b[0m\u001b[0;34m(\u001b[0m\u001b[0;36m10\u001b[0m\u001b[0;34m,\u001b[0m \u001b[0;36m1\u001b[0m\u001b[0;34m)\u001b[0m\u001b[0;34m\u001b[0m\u001b[0;34m\u001b[0m\u001b[0m\n\u001b[0m\u001b[1;32m      2\u001b[0m \u001b[0mage\u001b[0m\u001b[0;34m.\u001b[0m\u001b[0mC\u001b[0m\u001b[0;34m\u001b[0m\u001b[0;34m\u001b[0m\u001b[0m\n",
      "\u001b[0;32m~/Documents/IAR/Hierarchical-Reinforcement-Learning/src/agents.py\u001b[0m in \u001b[0;36mremove\u001b[0;34m(self, var, target_value)\u001b[0m\n\u001b[1;32m    187\u001b[0m \u001b[0;34m\u001b[0m\u001b[0m\n\u001b[1;32m    188\u001b[0m     \u001b[0;32mdef\u001b[0m \u001b[0mremove\u001b[0m\u001b[0;34m(\u001b[0m\u001b[0mself\u001b[0m\u001b[0;34m,\u001b[0m \u001b[0mvar\u001b[0m\u001b[0;34m,\u001b[0m \u001b[0mtarget_value\u001b[0m\u001b[0;34m)\u001b[0m\u001b[0;34m:\u001b[0m\u001b[0;34m\u001b[0m\u001b[0;34m\u001b[0m\u001b[0m\n\u001b[0;32m--> 189\u001b[0;31m         \u001b[0mself\u001b[0m\u001b[0;34m.\u001b[0m\u001b[0moptions\u001b[0m\u001b[0;34m[\u001b[0m\u001b[0;34m(\u001b[0m\u001b[0mvar\u001b[0m\u001b[0;34m,\u001b[0m \u001b[0mtarget_value\u001b[0m\u001b[0;34m)\u001b[0m\u001b[0;34m]\u001b[0m\u001b[0;34m.\u001b[0m\u001b[0mopt_root\u001b[0m\u001b[0;34m.\u001b[0m\u001b[0mused\u001b[0m\u001b[0;34m=\u001b[0m\u001b[0;32mFalse\u001b[0m\u001b[0;34m\u001b[0m\u001b[0;34m\u001b[0m\u001b[0m\n\u001b[0m\u001b[1;32m    190\u001b[0m         \u001b[0;31m#if((var, target_value) in self.options):\u001b[0m\u001b[0;34m\u001b[0m\u001b[0;34m\u001b[0m\u001b[0;34m\u001b[0m\u001b[0m\n\u001b[1;32m    191\u001b[0m             \u001b[0;31m#print(\"remove : \")\u001b[0m\u001b[0;34m\u001b[0m\u001b[0;34m\u001b[0m\u001b[0;34m\u001b[0m\u001b[0m\n",
      "\u001b[0;31mKeyError\u001b[0m: (10, 1)"
     ]
    }
   ],
   "source": [
    "age.remove(10, 1)\n",
    "age.C"
   ]
  },
  {
   "cell_type": "code",
   "execution_count": 71,
   "metadata": {},
   "outputs": [
    {
     "data": {
      "image/svg+xml": [
       "<?xml version=\"1.0\" encoding=\"UTF-8\" standalone=\"no\"?>\n",
       "<!DOCTYPE svg PUBLIC \"-//W3C//DTD SVG 1.1//EN\"\n",
       " \"http://www.w3.org/Graphics/SVG/1.1/DTD/svg11.dtd\">\n",
       "<!-- Generated by graphviz version 2.40.1 (20161225.0304)\n",
       " -->\n",
       "<!-- Title: %3 Pages: 1 -->\n",
       "<svg width=\"638pt\" height=\"260pt\"\n",
       " viewBox=\"0.00 0.00 638.00 260.00\" xmlns=\"http://www.w3.org/2000/svg\" xmlns:xlink=\"http://www.w3.org/1999/xlink\">\n",
       "<g id=\"graph0\" class=\"graph\" transform=\"scale(1 1) rotate(0) translate(4 256)\">\n",
       "<title>%3</title>\n",
       "<polygon fill=\"#ffffff\" stroke=\"transparent\" points=\"-4,4 -4,-256 634,-256 634,4 -4,4\"/>\n",
       "<!-- 1 -->\n",
       "<g id=\"node1\" class=\"node\">\n",
       "<title>1</title>\n",
       "<ellipse fill=\"#ffff00\" stroke=\"#ffff00\" cx=\"99\" cy=\"-234\" rx=\"27\" ry=\"18\"/>\n",
       "<text text-anchor=\"middle\" x=\"99\" y=\"-229.8\" font-family=\"Times,serif\" font-size=\"14.00\" fill=\"#000000\">1</text>\n",
       "</g>\n",
       "<!-- 10 -->\n",
       "<g id=\"node10\" class=\"node\">\n",
       "<title>10</title>\n",
       "<ellipse fill=\"#d3d3d3\" stroke=\"#d3d3d3\" cx=\"99\" cy=\"-162\" rx=\"27\" ry=\"18\"/>\n",
       "<text text-anchor=\"middle\" x=\"99\" y=\"-157.8\" font-family=\"Times,serif\" font-size=\"14.00\" fill=\"#000000\">10</text>\n",
       "</g>\n",
       "<!-- 1&#45;&gt;10 -->\n",
       "<g id=\"edge1\" class=\"edge\">\n",
       "<title>1&#45;&gt;10</title>\n",
       "<path fill=\"none\" stroke=\"#000000\" d=\"M99,-215.8314C99,-208.131 99,-198.9743 99,-190.4166\"/>\n",
       "<polygon fill=\"#000000\" stroke=\"#000000\" points=\"102.5001,-190.4132 99,-180.4133 95.5001,-190.4133 102.5001,-190.4132\"/>\n",
       "</g>\n",
       "<!-- 2 -->\n",
       "<g id=\"node2\" class=\"node\">\n",
       "<title>2</title>\n",
       "<ellipse fill=\"#d3d3d3\" stroke=\"#d3d3d3\" cx=\"171\" cy=\"-234\" rx=\"27\" ry=\"18\"/>\n",
       "<text text-anchor=\"middle\" x=\"171\" y=\"-229.8\" font-family=\"Times,serif\" font-size=\"14.00\" fill=\"#000000\">2</text>\n",
       "</g>\n",
       "<!-- 11 -->\n",
       "<g id=\"node11\" class=\"node\">\n",
       "<title>11</title>\n",
       "<ellipse fill=\"#d3d3d3\" stroke=\"#d3d3d3\" cx=\"207\" cy=\"-162\" rx=\"27\" ry=\"18\"/>\n",
       "<text text-anchor=\"middle\" x=\"207\" y=\"-157.8\" font-family=\"Times,serif\" font-size=\"14.00\" fill=\"#000000\">11</text>\n",
       "</g>\n",
       "<!-- 2&#45;&gt;11 -->\n",
       "<g id=\"edge4\" class=\"edge\">\n",
       "<title>2&#45;&gt;11</title>\n",
       "<path fill=\"none\" stroke=\"#000000\" d=\"M179.7146,-216.5708C183.9597,-208.0807 189.1536,-197.6929 193.8663,-188.2674\"/>\n",
       "<polygon fill=\"#000000\" stroke=\"#000000\" points=\"197.024,-189.7782 198.3657,-179.2687 190.763,-186.6477 197.024,-189.7782\"/>\n",
       "</g>\n",
       "<!-- 13 -->\n",
       "<g id=\"node13\" class=\"node\">\n",
       "<title>13</title>\n",
       "<ellipse fill=\"#d3d3d3\" stroke=\"#d3d3d3\" cx=\"315\" cy=\"-162\" rx=\"27\" ry=\"18\"/>\n",
       "<text text-anchor=\"middle\" x=\"315\" y=\"-157.8\" font-family=\"Times,serif\" font-size=\"14.00\" fill=\"#000000\">13</text>\n",
       "</g>\n",
       "<!-- 2&#45;&gt;13 -->\n",
       "<g id=\"edge8\" class=\"edge\">\n",
       "<title>2&#45;&gt;13</title>\n",
       "<path fill=\"none\" stroke=\"#000000\" d=\"M192.8705,-223.0647C217.2222,-210.8889 256.762,-191.119 284.2285,-177.3858\"/>\n",
       "<polygon fill=\"#000000\" stroke=\"#000000\" points=\"286.0165,-180.4049 293.3955,-172.8022 282.886,-174.1439 286.0165,-180.4049\"/>\n",
       "</g>\n",
       "<!-- 3 -->\n",
       "<g id=\"node3\" class=\"node\">\n",
       "<title>3</title>\n",
       "<ellipse fill=\"#ffff00\" stroke=\"#ffff00\" cx=\"387\" cy=\"-234\" rx=\"27\" ry=\"18\"/>\n",
       "<text text-anchor=\"middle\" x=\"387\" y=\"-229.8\" font-family=\"Times,serif\" font-size=\"14.00\" fill=\"#000000\">3</text>\n",
       "</g>\n",
       "<!-- 12 -->\n",
       "<g id=\"node12\" class=\"node\">\n",
       "<title>12</title>\n",
       "<ellipse fill=\"#d3d3d3\" stroke=\"#d3d3d3\" cx=\"387\" cy=\"-162\" rx=\"27\" ry=\"18\"/>\n",
       "<text text-anchor=\"middle\" x=\"387\" y=\"-157.8\" font-family=\"Times,serif\" font-size=\"14.00\" fill=\"#000000\">12</text>\n",
       "</g>\n",
       "<!-- 3&#45;&gt;12 -->\n",
       "<g id=\"edge6\" class=\"edge\">\n",
       "<title>3&#45;&gt;12</title>\n",
       "<path fill=\"none\" stroke=\"#000000\" d=\"M387,-215.8314C387,-208.131 387,-198.9743 387,-190.4166\"/>\n",
       "<polygon fill=\"#000000\" stroke=\"#000000\" points=\"390.5001,-190.4132 387,-180.4133 383.5001,-190.4133 390.5001,-190.4132\"/>\n",
       "</g>\n",
       "<!-- 3&#45;&gt;13 -->\n",
       "<g id=\"edge9\" class=\"edge\">\n",
       "<title>3&#45;&gt;13</title>\n",
       "<path fill=\"none\" stroke=\"#000000\" d=\"M371.7307,-218.7307C361.803,-208.803 348.6847,-195.6847 337.5637,-184.5637\"/>\n",
       "<polygon fill=\"#000000\" stroke=\"#000000\" points=\"339.7933,-181.8436 330.2473,-177.2473 334.8436,-186.7933 339.7933,-181.8436\"/>\n",
       "</g>\n",
       "<!-- 4 -->\n",
       "<g id=\"node4\" class=\"node\">\n",
       "<title>4</title>\n",
       "<ellipse fill=\"#d3d3d3\" stroke=\"#d3d3d3\" cx=\"27\" cy=\"-234\" rx=\"27\" ry=\"18\"/>\n",
       "<text text-anchor=\"middle\" x=\"27\" y=\"-229.8\" font-family=\"Times,serif\" font-size=\"14.00\" fill=\"#000000\">4</text>\n",
       "</g>\n",
       "<!-- 4&#45;&gt;10 -->\n",
       "<g id=\"edge2\" class=\"edge\">\n",
       "<title>4&#45;&gt;10</title>\n",
       "<path fill=\"none\" stroke=\"#000000\" d=\"M42.2693,-218.7307C52.197,-208.803 65.3153,-195.6847 76.4363,-184.5637\"/>\n",
       "<polygon fill=\"#000000\" stroke=\"#000000\" points=\"79.1564,-186.7933 83.7527,-177.2473 74.2067,-181.8436 79.1564,-186.7933\"/>\n",
       "</g>\n",
       "<!-- 5 -->\n",
       "<g id=\"node5\" class=\"node\">\n",
       "<title>5</title>\n",
       "<ellipse fill=\"#ffff00\" stroke=\"#ffff00\" cx=\"315\" cy=\"-234\" rx=\"27\" ry=\"18\"/>\n",
       "<text text-anchor=\"middle\" x=\"315\" y=\"-229.8\" font-family=\"Times,serif\" font-size=\"14.00\" fill=\"#000000\">5</text>\n",
       "</g>\n",
       "<!-- 5&#45;&gt;11 -->\n",
       "<g id=\"edge5\" class=\"edge\">\n",
       "<title>5&#45;&gt;11</title>\n",
       "<path fill=\"none\" stroke=\"#000000\" d=\"M295.6918,-221.1278C278.6445,-209.763 253.5981,-193.0654 234.4656,-180.3104\"/>\n",
       "<polygon fill=\"#000000\" stroke=\"#000000\" points=\"236.4031,-177.3956 226.1411,-174.7607 232.5201,-183.2199 236.4031,-177.3956\"/>\n",
       "</g>\n",
       "<!-- 14 -->\n",
       "<g id=\"node14\" class=\"node\">\n",
       "<title>14</title>\n",
       "<ellipse fill=\"#d3d3d3\" stroke=\"#d3d3d3\" cx=\"459\" cy=\"-162\" rx=\"27\" ry=\"18\"/>\n",
       "<text text-anchor=\"middle\" x=\"459\" y=\"-157.8\" font-family=\"Times,serif\" font-size=\"14.00\" fill=\"#000000\">14</text>\n",
       "</g>\n",
       "<!-- 5&#45;&gt;14 -->\n",
       "<g id=\"edge10\" class=\"edge\">\n",
       "<title>5&#45;&gt;14</title>\n",
       "<path fill=\"none\" stroke=\"#000000\" d=\"M336.8705,-223.0647C361.2222,-210.8889 400.762,-191.119 428.2285,-177.3858\"/>\n",
       "<polygon fill=\"#000000\" stroke=\"#000000\" points=\"430.0165,-180.4049 437.3955,-172.8022 426.886,-174.1439 430.0165,-180.4049\"/>\n",
       "</g>\n",
       "<!-- 6 -->\n",
       "<g id=\"node6\" class=\"node\">\n",
       "<title>6</title>\n",
       "<ellipse fill=\"#d3d3d3\" stroke=\"#d3d3d3\" cx=\"459\" cy=\"-234\" rx=\"27\" ry=\"18\"/>\n",
       "<text text-anchor=\"middle\" x=\"459\" y=\"-229.8\" font-family=\"Times,serif\" font-size=\"14.00\" fill=\"#000000\">6</text>\n",
       "</g>\n",
       "<!-- 6&#45;&gt;12 -->\n",
       "<g id=\"edge7\" class=\"edge\">\n",
       "<title>6&#45;&gt;12</title>\n",
       "<path fill=\"none\" stroke=\"#000000\" d=\"M443.7307,-218.7307C433.803,-208.803 420.6847,-195.6847 409.5637,-184.5637\"/>\n",
       "<polygon fill=\"#000000\" stroke=\"#000000\" points=\"411.7933,-181.8436 402.2473,-177.2473 406.8436,-186.7933 411.7933,-181.8436\"/>\n",
       "</g>\n",
       "<!-- 6&#45;&gt;14 -->\n",
       "<g id=\"edge11\" class=\"edge\">\n",
       "<title>6&#45;&gt;14</title>\n",
       "<path fill=\"none\" stroke=\"#000000\" d=\"M459,-215.8314C459,-208.131 459,-198.9743 459,-190.4166\"/>\n",
       "<polygon fill=\"#000000\" stroke=\"#000000\" points=\"462.5001,-190.4132 459,-180.4133 455.5001,-190.4133 462.5001,-190.4132\"/>\n",
       "</g>\n",
       "<!-- 7 -->\n",
       "<g id=\"node7\" class=\"node\">\n",
       "<title>7</title>\n",
       "<ellipse fill=\"#d3d3d3\" stroke=\"#d3d3d3\" cx=\"243\" cy=\"-234\" rx=\"27\" ry=\"18\"/>\n",
       "<text text-anchor=\"middle\" x=\"243\" y=\"-229.8\" font-family=\"Times,serif\" font-size=\"14.00\" fill=\"#000000\">7</text>\n",
       "</g>\n",
       "<!-- 7&#45;&gt;10 -->\n",
       "<g id=\"edge3\" class=\"edge\">\n",
       "<title>7&#45;&gt;10</title>\n",
       "<path fill=\"none\" stroke=\"#000000\" d=\"M221.1295,-223.0647C196.7778,-210.8889 157.238,-191.119 129.7715,-177.3858\"/>\n",
       "<polygon fill=\"#000000\" stroke=\"#000000\" points=\"131.114,-174.1439 120.6045,-172.8022 127.9835,-180.4049 131.114,-174.1439\"/>\n",
       "</g>\n",
       "<!-- 15 -->\n",
       "<g id=\"node15\" class=\"node\">\n",
       "<title>15</title>\n",
       "<ellipse fill=\"#d3d3d3\" stroke=\"#d3d3d3\" cx=\"531\" cy=\"-162\" rx=\"27\" ry=\"18\"/>\n",
       "<text text-anchor=\"middle\" x=\"531\" y=\"-157.8\" font-family=\"Times,serif\" font-size=\"14.00\" fill=\"#000000\">15</text>\n",
       "</g>\n",
       "<!-- 7&#45;&gt;15 -->\n",
       "<g id=\"edge12\" class=\"edge\">\n",
       "<title>7&#45;&gt;15</title>\n",
       "<path fill=\"none\" stroke=\"#000000\" d=\"M263.8749,-222.2531C268.7251,-219.8959 273.9497,-217.6423 279,-216 371.5536,-185.9031 402.4464,-210.0969 495,-180 496.8939,-179.3841 498.8123,-178.6823 500.7262,-177.9213\"/>\n",
       "<polygon fill=\"#000000\" stroke=\"#000000\" points=\"502.4066,-181.0047 510.1251,-173.7469 499.5653,-174.6073 502.4066,-181.0047\"/>\n",
       "</g>\n",
       "<!-- 8 -->\n",
       "<g id=\"node8\" class=\"node\">\n",
       "<title>8</title>\n",
       "<ellipse fill=\"#d3d3d3\" stroke=\"#d3d3d3\" cx=\"603\" cy=\"-234\" rx=\"27\" ry=\"18\"/>\n",
       "<text text-anchor=\"middle\" x=\"603\" y=\"-229.8\" font-family=\"Times,serif\" font-size=\"14.00\" fill=\"#000000\">8</text>\n",
       "</g>\n",
       "<!-- 8&#45;&gt;15 -->\n",
       "<g id=\"edge13\" class=\"edge\">\n",
       "<title>8&#45;&gt;15</title>\n",
       "<path fill=\"none\" stroke=\"#000000\" d=\"M587.7307,-218.7307C577.803,-208.803 564.6847,-195.6847 553.5637,-184.5637\"/>\n",
       "<polygon fill=\"#000000\" stroke=\"#000000\" points=\"555.7933,-181.8436 546.2473,-177.2473 550.8436,-186.7933 555.7933,-181.8436\"/>\n",
       "</g>\n",
       "<!-- 9 -->\n",
       "<g id=\"node9\" class=\"node\">\n",
       "<title>9</title>\n",
       "<ellipse fill=\"#d3d3d3\" stroke=\"#d3d3d3\" cx=\"531\" cy=\"-234\" rx=\"27\" ry=\"18\"/>\n",
       "<text text-anchor=\"middle\" x=\"531\" y=\"-229.8\" font-family=\"Times,serif\" font-size=\"14.00\" fill=\"#000000\">9</text>\n",
       "</g>\n",
       "<!-- 9&#45;&gt;15 -->\n",
       "<g id=\"edge14\" class=\"edge\">\n",
       "<title>9&#45;&gt;15</title>\n",
       "<path fill=\"none\" stroke=\"#000000\" d=\"M531,-215.8314C531,-208.131 531,-198.9743 531,-190.4166\"/>\n",
       "<polygon fill=\"#000000\" stroke=\"#000000\" points=\"534.5001,-190.4132 531,-180.4133 527.5001,-190.4133 534.5001,-190.4132\"/>\n",
       "</g>\n",
       "<!-- 16 -->\n",
       "<g id=\"node16\" class=\"node\">\n",
       "<title>16</title>\n",
       "<ellipse fill=\"#d3d3d3\" stroke=\"#d3d3d3\" cx=\"171\" cy=\"-90\" rx=\"27\" ry=\"18\"/>\n",
       "<text text-anchor=\"middle\" x=\"171\" y=\"-85.8\" font-family=\"Times,serif\" font-size=\"14.00\" fill=\"#000000\">16</text>\n",
       "</g>\n",
       "<!-- 10&#45;&gt;16 -->\n",
       "<g id=\"edge15\" class=\"edge\">\n",
       "<title>10&#45;&gt;16</title>\n",
       "<path fill=\"none\" stroke=\"#000000\" d=\"M114.2693,-146.7307C124.197,-136.803 137.3153,-123.6847 148.4363,-112.5637\"/>\n",
       "<polygon fill=\"#000000\" stroke=\"#000000\" points=\"151.1564,-114.7933 155.7527,-105.2473 146.2067,-109.8436 151.1564,-114.7933\"/>\n",
       "</g>\n",
       "<!-- 11&#45;&gt;16 -->\n",
       "<g id=\"edge16\" class=\"edge\">\n",
       "<title>11&#45;&gt;16</title>\n",
       "<path fill=\"none\" stroke=\"#000000\" d=\"M198.2854,-144.5708C194.0403,-136.0807 188.8464,-125.6929 184.1337,-116.2674\"/>\n",
       "<polygon fill=\"#000000\" stroke=\"#000000\" points=\"187.237,-114.6477 179.6343,-107.2687 180.976,-117.7782 187.237,-114.6477\"/>\n",
       "</g>\n",
       "<!-- 17 -->\n",
       "<g id=\"node17\" class=\"node\">\n",
       "<title>17</title>\n",
       "<ellipse fill=\"#d3d3d3\" stroke=\"#d3d3d3\" cx=\"315\" cy=\"-90\" rx=\"27\" ry=\"18\"/>\n",
       "<text text-anchor=\"middle\" x=\"315\" y=\"-85.8\" font-family=\"Times,serif\" font-size=\"14.00\" fill=\"#000000\">17</text>\n",
       "</g>\n",
       "<!-- 11&#45;&gt;17 -->\n",
       "<g id=\"edge17\" class=\"edge\">\n",
       "<title>11&#45;&gt;17</title>\n",
       "<path fill=\"none\" stroke=\"#000000\" d=\"M226.3082,-149.1278C243.3555,-137.763 268.4019,-121.0654 287.5344,-108.3104\"/>\n",
       "<polygon fill=\"#000000\" stroke=\"#000000\" points=\"289.4799,-111.2199 295.8589,-102.7607 285.5969,-105.3956 289.4799,-111.2199\"/>\n",
       "</g>\n",
       "<!-- 12&#45;&gt;17 -->\n",
       "<g id=\"edge18\" class=\"edge\">\n",
       "<title>12&#45;&gt;17</title>\n",
       "<path fill=\"none\" stroke=\"#000000\" d=\"M371.7307,-146.7307C361.803,-136.803 348.6847,-123.6847 337.5637,-112.5637\"/>\n",
       "<polygon fill=\"#000000\" stroke=\"#000000\" points=\"339.7933,-109.8436 330.2473,-105.2473 334.8436,-114.7933 339.7933,-109.8436\"/>\n",
       "</g>\n",
       "<!-- 18 -->\n",
       "<g id=\"node18\" class=\"node\">\n",
       "<title>18</title>\n",
       "<ellipse fill=\"#d3d3d3\" stroke=\"#d3d3d3\" cx=\"387\" cy=\"-90\" rx=\"27\" ry=\"18\"/>\n",
       "<text text-anchor=\"middle\" x=\"387\" y=\"-85.8\" font-family=\"Times,serif\" font-size=\"14.00\" fill=\"#000000\">18</text>\n",
       "</g>\n",
       "<!-- 13&#45;&gt;18 -->\n",
       "<g id=\"edge19\" class=\"edge\">\n",
       "<title>13&#45;&gt;18</title>\n",
       "<path fill=\"none\" stroke=\"#000000\" d=\"M330.2693,-146.7307C340.197,-136.803 353.3153,-123.6847 364.4363,-112.5637\"/>\n",
       "<polygon fill=\"#000000\" stroke=\"#000000\" points=\"367.1564,-114.7933 371.7527,-105.2473 362.2067,-109.8436 367.1564,-114.7933\"/>\n",
       "</g>\n",
       "<!-- 14&#45;&gt;18 -->\n",
       "<g id=\"edge20\" class=\"edge\">\n",
       "<title>14&#45;&gt;18</title>\n",
       "<path fill=\"none\" stroke=\"#000000\" d=\"M443.7307,-146.7307C433.803,-136.803 420.6847,-123.6847 409.5637,-112.5637\"/>\n",
       "<polygon fill=\"#000000\" stroke=\"#000000\" points=\"411.7933,-109.8436 402.2473,-105.2473 406.8436,-114.7933 411.7933,-109.8436\"/>\n",
       "</g>\n",
       "<!-- 19 -->\n",
       "<g id=\"node19\" class=\"node\">\n",
       "<title>19</title>\n",
       "<ellipse fill=\"#d3d3d3\" stroke=\"#d3d3d3\" cx=\"495\" cy=\"-90\" rx=\"27\" ry=\"18\"/>\n",
       "<text text-anchor=\"middle\" x=\"495\" y=\"-85.8\" font-family=\"Times,serif\" font-size=\"14.00\" fill=\"#000000\">19</text>\n",
       "</g>\n",
       "<!-- 14&#45;&gt;19 -->\n",
       "<g id=\"edge21\" class=\"edge\">\n",
       "<title>14&#45;&gt;19</title>\n",
       "<path fill=\"none\" stroke=\"#000000\" d=\"M467.7146,-144.5708C471.9597,-136.0807 477.1536,-125.6929 481.8663,-116.2674\"/>\n",
       "<polygon fill=\"#000000\" stroke=\"#000000\" points=\"485.024,-117.7782 486.3657,-107.2687 478.763,-114.6477 485.024,-117.7782\"/>\n",
       "</g>\n",
       "<!-- 15&#45;&gt;19 -->\n",
       "<g id=\"edge22\" class=\"edge\">\n",
       "<title>15&#45;&gt;19</title>\n",
       "<path fill=\"none\" stroke=\"#000000\" d=\"M522.2854,-144.5708C518.0403,-136.0807 512.8464,-125.6929 508.1337,-116.2674\"/>\n",
       "<polygon fill=\"#000000\" stroke=\"#000000\" points=\"511.237,-114.6477 503.6343,-107.2687 504.976,-117.7782 511.237,-114.6477\"/>\n",
       "</g>\n",
       "<!-- 20 -->\n",
       "<g id=\"node20\" class=\"node\">\n",
       "<title>20</title>\n",
       "<ellipse fill=\"#d3d3d3\" stroke=\"#d3d3d3\" cx=\"351\" cy=\"-18\" rx=\"27\" ry=\"18\"/>\n",
       "<text text-anchor=\"middle\" x=\"351\" y=\"-13.8\" font-family=\"Times,serif\" font-size=\"14.00\" fill=\"#000000\">20</text>\n",
       "</g>\n",
       "<!-- 17&#45;&gt;20 -->\n",
       "<g id=\"edge23\" class=\"edge\">\n",
       "<title>17&#45;&gt;20</title>\n",
       "<path fill=\"none\" stroke=\"#000000\" d=\"M323.7146,-72.5708C327.9597,-64.0807 333.1536,-53.6929 337.8663,-44.2674\"/>\n",
       "<polygon fill=\"#000000\" stroke=\"#000000\" points=\"341.024,-45.7782 342.3657,-35.2687 334.763,-42.6477 341.024,-45.7782\"/>\n",
       "</g>\n",
       "<!-- 18&#45;&gt;20 -->\n",
       "<g id=\"edge24\" class=\"edge\">\n",
       "<title>18&#45;&gt;20</title>\n",
       "<path fill=\"none\" stroke=\"#000000\" d=\"M378.2854,-72.5708C374.0403,-64.0807 368.8464,-53.6929 364.1337,-44.2674\"/>\n",
       "<polygon fill=\"#000000\" stroke=\"#000000\" points=\"367.237,-42.6477 359.6343,-35.2687 360.976,-45.7782 367.237,-42.6477\"/>\n",
       "</g>\n",
       "</g>\n",
       "</svg>\n"
      ],
      "text/plain": [
       "<graphviz.dot.Digraph at 0x117d34630>"
      ]
     },
     "execution_count": 71,
     "metadata": {},
     "output_type": "execute_result"
    }
   ],
   "source": [
    "age.env.show()"
   ]
  },
  {
   "cell_type": "code",
   "execution_count": null,
   "metadata": {},
   "outputs": [],
   "source": []
  }
 ],
 "metadata": {
  "kernelspec": {
   "display_name": "Python 3",
   "language": "python",
   "name": "python3"
  },
  "language_info": {
   "codemirror_mode": {
    "name": "ipython",
    "version": 3
   },
   "file_extension": ".py",
   "mimetype": "text/x-python",
   "name": "python",
   "nbconvert_exporter": "python",
   "pygments_lexer": "ipython3",
   "version": "3.6.8"
  }
 },
 "nbformat": 4,
 "nbformat_minor": 4
}
