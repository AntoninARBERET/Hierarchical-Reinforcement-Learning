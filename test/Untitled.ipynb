{
 "cells": [
  {
   "cell_type": "code",
   "execution_count": 1,
   "metadata": {},
   "outputs": [],
   "source": [
    "import sys\n",
    "sys.path.insert(1, '../src')\n",
    "import lightbox as lb"
   ]
  },
  {
   "cell_type": "code",
   "execution_count": 2,
   "metadata": {},
   "outputs": [],
   "source": [
    "light_box_test = lb.LightBox()"
   ]
  },
  {
   "cell_type": "code",
   "execution_count": 3,
   "metadata": {},
   "outputs": [
    {
     "name": "stdout",
     "output_type": "stream",
     "text": [
      "-----------lvl 1----------\n",
      "Light 1 \tvalue = False\n",
      "Light 2 \tvalue = False\n",
      "Light 3 \tvalue = False\n",
      "Light 4 \tvalue = False\n",
      "Light 5 \tvalue = False\n",
      "Light 6 \tvalue = False\n",
      "Light 7 \tvalue = False\n",
      "Light 8 \tvalue = False\n",
      "Light 9 \tvalue = False\n",
      "-----------lvl 2----------\n",
      "Light 10 \tvalue = False\tDepend on : 1 4 7 \n",
      "Light 11 \tvalue = False\tDepend on : 2 5 \n",
      "Light 12 \tvalue = False\tDepend on : 3 6 \n",
      "Light 13 \tvalue = False\tDepend on : 2 3 \n",
      "Light 14 \tvalue = False\tDepend on : 5 6 \n",
      "Light 15 \tvalue = False\tDepend on : 7 8 \n",
      "-----------lvl 3----------\n",
      "Light 16 \tvalue = False\tDepend on : 10 11 \n",
      "Light 17 \tvalue = False\tDepend on : 11 12 \n",
      "Light 18 \tvalue = False\tDepend on : 13 14 \n",
      "Light 19 \tvalue = False\tDepend on : 14 15 \n",
      "-----------lvl 4----------\n",
      "Light 20 \tvalue = False\tDepend on : 17 18 \n",
      "\n"
     ]
    }
   ],
   "source": [
    "print(light_box_test)"
   ]
  },
  {
   "cell_type": "code",
   "execution_count": null,
   "metadata": {},
   "outputs": [],
   "source": []
  },
  {
   "cell_type": "code",
   "execution_count": null,
   "metadata": {},
   "outputs": [],
   "source": []
  }
 ],
 "metadata": {
  "kernelspec": {
   "display_name": "Python 3",
   "language": "python",
   "name": "python3"
  },
  "language_info": {
   "codemirror_mode": {
    "name": "ipython",
    "version": 3
   },
   "file_extension": ".py",
   "mimetype": "text/x-python",
   "name": "python",
   "nbconvert_exporter": "python",
   "pygments_lexer": "ipython3",
   "version": "3.6.8"
  }
 },
 "nbformat": 4,
 "nbformat_minor": 4
}
