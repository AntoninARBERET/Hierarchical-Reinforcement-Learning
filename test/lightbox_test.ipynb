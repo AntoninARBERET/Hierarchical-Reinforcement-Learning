{
 "cells": [
  {
   "cell_type": "markdown",
   "metadata": {},
   "source": [
    "# Test : lightbox"
   ]
  },
  {
   "cell_type": "code",
   "execution_count": 3,
   "metadata": {},
   "outputs": [
    {
     "data": {
      "text/plain": [
       "<module 'lightbox' from '../src/lightbox.py'>"
      ]
     },
     "execution_count": 3,
     "metadata": {},
     "output_type": "execute_result"
    }
   ],
   "source": [
    "import sys\n",
    "\n",
    "sys.path.insert(1, '../src')\n",
    "\n",
    "import lightbox as lb\n",
    "#to not restart kernel on jupyter each time\n",
    "import importlib\n",
    "importlib.reload(lb)"
   ]
  },
  {
   "cell_type": "markdown",
   "metadata": {},
   "source": [
    "## Creation and print"
   ]
  },
  {
   "cell_type": "code",
   "execution_count": 4,
   "metadata": {},
   "outputs": [],
   "source": [
    "light_box_test = lb.LightBox()"
   ]
  },
  {
   "cell_type": "code",
   "execution_count": 3,
   "metadata": {},
   "outputs": [
    {
     "name": "stdout",
     "output_type": "stream",
     "text": [
      "-----------lvl 1----------\n",
      "Light 1 \tvalue = False\n",
      "Light 2 \tvalue = False\n",
      "Light 3 \tvalue = False\n",
      "Light 4 \tvalue = False\n",
      "Light 5 \tvalue = False\n",
      "Light 6 \tvalue = False\n",
      "Light 7 \tvalue = False\n",
      "Light 8 \tvalue = False\n",
      "Light 9 \tvalue = False\n",
      "-----------lvl 2----------\n",
      "Light 10 \tvalue = False\tDepend on : 1 4 7 \n",
      "Light 11 \tvalue = False\tDepend on : 2 5 \n",
      "Light 12 \tvalue = False\tDepend on : 3 6 \n",
      "Light 13 \tvalue = False\tDepend on : 2 3 \n",
      "Light 14 \tvalue = False\tDepend on : 5 6 \n",
      "Light 15 \tvalue = False\tDepend on : 7 8 9 \n",
      "-----------lvl 3----------\n",
      "Light 16 \tvalue = False\tDepend on : 10 11 \n",
      "Light 17 \tvalue = False\tDepend on : 11 12 \n",
      "Light 18 \tvalue = False\tDepend on : 13 14 \n",
      "Light 19 \tvalue = False\tDepend on : 14 15 \n",
      "-----------lvl 4----------\n",
      "Light 20 \tvalue = False\tDepend on : 17 18 \n",
      "\n"
     ]
    }
   ],
   "source": [
    "print(light_box_test)"
   ]
  },
  {
   "cell_type": "markdown",
   "metadata": {},
   "source": [
    "## Tuning first level lights"
   ]
  },
  {
   "cell_type": "code",
   "execution_count": 5,
   "metadata": {},
   "outputs": [
    {
     "name": "stdout",
     "output_type": "stream",
     "text": [
      "-----------lvl 1----------\n",
      "Light 1 \tvalue = True\n",
      "Light 2 \tvalue = False\n",
      "Light 3 \tvalue = False\n",
      "Light 4 \tvalue = True\n",
      "Light 5 \tvalue = False\n",
      "Light 6 \tvalue = False\n",
      "Light 7 \tvalue = True\n",
      "Light 8 \tvalue = False\n",
      "Light 9 \tvalue = False\n",
      "-----------lvl 2----------\n",
      "Light 10 \tvalue = False\tDepend on : 1 4 7 \n",
      "Light 11 \tvalue = False\tDepend on : 2 5 \n",
      "Light 12 \tvalue = False\tDepend on : 3 6 \n",
      "Light 13 \tvalue = False\tDepend on : 2 3 \n",
      "Light 14 \tvalue = False\tDepend on : 5 6 \n",
      "Light 15 \tvalue = False\tDepend on : 7 8 9 \n",
      "-----------lvl 3----------\n",
      "Light 16 \tvalue = False\tDepend on : 10 11 \n",
      "Light 17 \tvalue = False\tDepend on : 11 12 \n",
      "Light 18 \tvalue = False\tDepend on : 13 14 \n",
      "Light 19 \tvalue = False\tDepend on : 14 15 \n",
      "-----------lvl 4----------\n",
      "Light 20 \tvalue = False\tDepend on : 17 18 \n",
      "\n"
     ]
    }
   ],
   "source": [
    "light_box_test.turn_on(1)\n",
    "light_box_test.turn_on(4)\n",
    "light_box_test.turn_on(7)\n",
    "print(light_box_test)"
   ]
  },
  {
   "cell_type": "markdown",
   "metadata": {},
   "source": [
    "## Tuning on light second level lights"
   ]
  },
  {
   "cell_type": "code",
   "execution_count": 6,
   "metadata": {},
   "outputs": [
    {
     "name": "stdout",
     "output_type": "stream",
     "text": [
      "-----------lvl 1----------\n",
      "Light 1 \tvalue = True\n",
      "Light 2 \tvalue = False\n",
      "Light 3 \tvalue = False\n",
      "Light 4 \tvalue = True\n",
      "Light 5 \tvalue = False\n",
      "Light 6 \tvalue = False\n",
      "Light 7 \tvalue = True\n",
      "Light 8 \tvalue = False\n",
      "Light 9 \tvalue = False\n",
      "-----------lvl 2----------\n",
      "Light 10 \tvalue = True\tDepend on : 1 4 7 \n",
      "Light 11 \tvalue = False\tDepend on : 2 5 \n",
      "Light 12 \tvalue = False\tDepend on : 3 6 \n",
      "Light 13 \tvalue = False\tDepend on : 2 3 \n",
      "Light 14 \tvalue = False\tDepend on : 5 6 \n",
      "Light 15 \tvalue = False\tDepend on : 7 8 9 \n",
      "-----------lvl 3----------\n",
      "Light 16 \tvalue = False\tDepend on : 10 11 \n",
      "Light 17 \tvalue = False\tDepend on : 11 12 \n",
      "Light 18 \tvalue = False\tDepend on : 13 14 \n",
      "Light 19 \tvalue = False\tDepend on : 14 15 \n",
      "-----------lvl 4----------\n",
      "Light 20 \tvalue = False\tDepend on : 17 18 \n",
      "\n"
     ]
    }
   ],
   "source": [
    "light_box_test.turn_on(10)\n",
    "print(light_box_test)"
   ]
  },
  {
   "cell_type": "code",
   "execution_count": 7,
   "metadata": {},
   "outputs": [
    {
     "name": "stdout",
     "output_type": "stream",
     "text": [
      "-----------lvl 1----------\n",
      "Light 1 \tvalue = True\n",
      "Light 2 \tvalue = False\n",
      "Light 3 \tvalue = False\n",
      "Light 4 \tvalue = True\n",
      "Light 5 \tvalue = False\n",
      "Light 6 \tvalue = False\n",
      "Light 7 \tvalue = True\n",
      "Light 8 \tvalue = False\n",
      "Light 9 \tvalue = False\n",
      "-----------lvl 2----------\n",
      "Light 10 \tvalue = True\tDepend on : 1 4 7 \n",
      "Light 11 \tvalue = False\tDepend on : 2 5 \n",
      "Light 12 \tvalue = False\tDepend on : 3 6 \n",
      "Light 13 \tvalue = False\tDepend on : 2 3 \n",
      "Light 14 \tvalue = False\tDepend on : 5 6 \n",
      "Light 15 \tvalue = False\tDepend on : 7 8 9 \n",
      "-----------lvl 3----------\n",
      "Light 16 \tvalue = False\tDepend on : 10 11 \n",
      "Light 17 \tvalue = False\tDepend on : 11 12 \n",
      "Light 18 \tvalue = False\tDepend on : 13 14 \n",
      "Light 19 \tvalue = False\tDepend on : 14 15 \n",
      "-----------lvl 4----------\n",
      "Light 20 \tvalue = False\tDepend on : 17 18 \n",
      "\n"
     ]
    }
   ],
   "source": [
    "light_box_test.turn_on(11)\n",
    "print(light_box_test)"
   ]
  },
  {
   "cell_type": "markdown",
   "metadata": {},
   "source": [
    "## Getters"
   ]
  },
  {
   "cell_type": "code",
   "execution_count": 8,
   "metadata": {},
   "outputs": [
    {
     "name": "stdout",
     "output_type": "stream",
     "text": [
      "[True, False, False, True, False, False, True, False, False, True, False, False, False, False, False, False, False, False, False, False]\n"
     ]
    }
   ],
   "source": [
    "print(light_box_test.get_state())"
   ]
  },
  {
   "cell_type": "code",
   "execution_count": 9,
   "metadata": {},
   "outputs": [
    {
     "name": "stdout",
     "output_type": "stream",
     "text": [
      "20\n"
     ]
    }
   ],
   "source": [
    "print(light_box_test.get_nb_light())"
   ]
  },
  {
   "cell_type": "markdown",
   "metadata": {},
   "source": [
    "## Display"
   ]
  },
  {
   "cell_type": "code",
   "execution_count": 10,
   "metadata": {},
   "outputs": [
    {
     "data": {
      "image/svg+xml": [
       "<?xml version=\"1.0\" encoding=\"UTF-8\" standalone=\"no\"?>\n",
       "<!DOCTYPE svg PUBLIC \"-//W3C//DTD SVG 1.1//EN\"\n",
       " \"http://www.w3.org/Graphics/SVG/1.1/DTD/svg11.dtd\">\n",
       "<!-- Generated by graphviz version 2.40.1 (20161225.0304)\n",
       " -->\n",
       "<!-- Title: %3 Pages: 1 -->\n",
       "<svg width=\"638pt\" height=\"260pt\"\n",
       " viewBox=\"0.00 0.00 638.00 260.00\" xmlns=\"http://www.w3.org/2000/svg\" xmlns:xlink=\"http://www.w3.org/1999/xlink\">\n",
       "<g id=\"graph0\" class=\"graph\" transform=\"scale(1 1) rotate(0) translate(4 256)\">\n",
       "<title>%3</title>\n",
       "<polygon fill=\"#ffffff\" stroke=\"transparent\" points=\"-4,4 -4,-256 634,-256 634,4 -4,4\"/>\n",
       "<!-- 1 -->\n",
       "<g id=\"node1\" class=\"node\">\n",
       "<title>1</title>\n",
       "<ellipse fill=\"#ffff00\" stroke=\"#ffff00\" cx=\"99\" cy=\"-234\" rx=\"27\" ry=\"18\"/>\n",
       "<text text-anchor=\"middle\" x=\"99\" y=\"-230.3\" font-family=\"Times,serif\" font-size=\"14.00\" fill=\"#000000\">1</text>\n",
       "</g>\n",
       "<!-- 10 -->\n",
       "<g id=\"node10\" class=\"node\">\n",
       "<title>10</title>\n",
       "<ellipse fill=\"#ffff00\" stroke=\"#ffff00\" cx=\"99\" cy=\"-162\" rx=\"27\" ry=\"18\"/>\n",
       "<text text-anchor=\"middle\" x=\"99\" y=\"-158.3\" font-family=\"Times,serif\" font-size=\"14.00\" fill=\"#000000\">10</text>\n",
       "</g>\n",
       "<!-- 1&#45;&gt;10 -->\n",
       "<g id=\"edge1\" class=\"edge\">\n",
       "<title>1&#45;&gt;10</title>\n",
       "<path fill=\"none\" stroke=\"#000000\" d=\"M99,-215.8314C99,-208.131 99,-198.9743 99,-190.4166\"/>\n",
       "<polygon fill=\"#000000\" stroke=\"#000000\" points=\"102.5001,-190.4132 99,-180.4133 95.5001,-190.4133 102.5001,-190.4132\"/>\n",
       "</g>\n",
       "<!-- 2 -->\n",
       "<g id=\"node2\" class=\"node\">\n",
       "<title>2</title>\n",
       "<ellipse fill=\"#d3d3d3\" stroke=\"#d3d3d3\" cx=\"171\" cy=\"-234\" rx=\"27\" ry=\"18\"/>\n",
       "<text text-anchor=\"middle\" x=\"171\" y=\"-230.3\" font-family=\"Times,serif\" font-size=\"14.00\" fill=\"#000000\">2</text>\n",
       "</g>\n",
       "<!-- 11 -->\n",
       "<g id=\"node11\" class=\"node\">\n",
       "<title>11</title>\n",
       "<ellipse fill=\"#d3d3d3\" stroke=\"#d3d3d3\" cx=\"207\" cy=\"-162\" rx=\"27\" ry=\"18\"/>\n",
       "<text text-anchor=\"middle\" x=\"207\" y=\"-158.3\" font-family=\"Times,serif\" font-size=\"14.00\" fill=\"#000000\">11</text>\n",
       "</g>\n",
       "<!-- 2&#45;&gt;11 -->\n",
       "<g id=\"edge4\" class=\"edge\">\n",
       "<title>2&#45;&gt;11</title>\n",
       "<path fill=\"none\" stroke=\"#000000\" d=\"M179.7146,-216.5708C183.9597,-208.0807 189.1536,-197.6929 193.8663,-188.2674\"/>\n",
       "<polygon fill=\"#000000\" stroke=\"#000000\" points=\"197.024,-189.7782 198.3657,-179.2687 190.763,-186.6477 197.024,-189.7782\"/>\n",
       "</g>\n",
       "<!-- 13 -->\n",
       "<g id=\"node13\" class=\"node\">\n",
       "<title>13</title>\n",
       "<ellipse fill=\"#d3d3d3\" stroke=\"#d3d3d3\" cx=\"315\" cy=\"-162\" rx=\"27\" ry=\"18\"/>\n",
       "<text text-anchor=\"middle\" x=\"315\" y=\"-158.3\" font-family=\"Times,serif\" font-size=\"14.00\" fill=\"#000000\">13</text>\n",
       "</g>\n",
       "<!-- 2&#45;&gt;13 -->\n",
       "<g id=\"edge8\" class=\"edge\">\n",
       "<title>2&#45;&gt;13</title>\n",
       "<path fill=\"none\" stroke=\"#000000\" d=\"M192.8705,-223.0647C217.2222,-210.8889 256.762,-191.119 284.2285,-177.3858\"/>\n",
       "<polygon fill=\"#000000\" stroke=\"#000000\" points=\"286.0165,-180.4049 293.3955,-172.8022 282.886,-174.1439 286.0165,-180.4049\"/>\n",
       "</g>\n",
       "<!-- 3 -->\n",
       "<g id=\"node3\" class=\"node\">\n",
       "<title>3</title>\n",
       "<ellipse fill=\"#d3d3d3\" stroke=\"#d3d3d3\" cx=\"387\" cy=\"-234\" rx=\"27\" ry=\"18\"/>\n",
       "<text text-anchor=\"middle\" x=\"387\" y=\"-230.3\" font-family=\"Times,serif\" font-size=\"14.00\" fill=\"#000000\">3</text>\n",
       "</g>\n",
       "<!-- 12 -->\n",
       "<g id=\"node12\" class=\"node\">\n",
       "<title>12</title>\n",
       "<ellipse fill=\"#d3d3d3\" stroke=\"#d3d3d3\" cx=\"387\" cy=\"-162\" rx=\"27\" ry=\"18\"/>\n",
       "<text text-anchor=\"middle\" x=\"387\" y=\"-158.3\" font-family=\"Times,serif\" font-size=\"14.00\" fill=\"#000000\">12</text>\n",
       "</g>\n",
       "<!-- 3&#45;&gt;12 -->\n",
       "<g id=\"edge6\" class=\"edge\">\n",
       "<title>3&#45;&gt;12</title>\n",
       "<path fill=\"none\" stroke=\"#000000\" d=\"M387,-215.8314C387,-208.131 387,-198.9743 387,-190.4166\"/>\n",
       "<polygon fill=\"#000000\" stroke=\"#000000\" points=\"390.5001,-190.4132 387,-180.4133 383.5001,-190.4133 390.5001,-190.4132\"/>\n",
       "</g>\n",
       "<!-- 3&#45;&gt;13 -->\n",
       "<g id=\"edge9\" class=\"edge\">\n",
       "<title>3&#45;&gt;13</title>\n",
       "<path fill=\"none\" stroke=\"#000000\" d=\"M371.7307,-218.7307C361.803,-208.803 348.6847,-195.6847 337.5637,-184.5637\"/>\n",
       "<polygon fill=\"#000000\" stroke=\"#000000\" points=\"339.7933,-181.8436 330.2473,-177.2473 334.8436,-186.7933 339.7933,-181.8436\"/>\n",
       "</g>\n",
       "<!-- 4 -->\n",
       "<g id=\"node4\" class=\"node\">\n",
       "<title>4</title>\n",
       "<ellipse fill=\"#ffff00\" stroke=\"#ffff00\" cx=\"27\" cy=\"-234\" rx=\"27\" ry=\"18\"/>\n",
       "<text text-anchor=\"middle\" x=\"27\" y=\"-230.3\" font-family=\"Times,serif\" font-size=\"14.00\" fill=\"#000000\">4</text>\n",
       "</g>\n",
       "<!-- 4&#45;&gt;10 -->\n",
       "<g id=\"edge2\" class=\"edge\">\n",
       "<title>4&#45;&gt;10</title>\n",
       "<path fill=\"none\" stroke=\"#000000\" d=\"M42.2693,-218.7307C52.197,-208.803 65.3153,-195.6847 76.4363,-184.5637\"/>\n",
       "<polygon fill=\"#000000\" stroke=\"#000000\" points=\"79.1564,-186.7933 83.7527,-177.2473 74.2067,-181.8436 79.1564,-186.7933\"/>\n",
       "</g>\n",
       "<!-- 5 -->\n",
       "<g id=\"node5\" class=\"node\">\n",
       "<title>5</title>\n",
       "<ellipse fill=\"#d3d3d3\" stroke=\"#d3d3d3\" cx=\"315\" cy=\"-234\" rx=\"27\" ry=\"18\"/>\n",
       "<text text-anchor=\"middle\" x=\"315\" y=\"-230.3\" font-family=\"Times,serif\" font-size=\"14.00\" fill=\"#000000\">5</text>\n",
       "</g>\n",
       "<!-- 5&#45;&gt;11 -->\n",
       "<g id=\"edge5\" class=\"edge\">\n",
       "<title>5&#45;&gt;11</title>\n",
       "<path fill=\"none\" stroke=\"#000000\" d=\"M295.6918,-221.1278C278.6445,-209.763 253.5981,-193.0654 234.4656,-180.3104\"/>\n",
       "<polygon fill=\"#000000\" stroke=\"#000000\" points=\"236.4031,-177.3956 226.1411,-174.7607 232.5201,-183.2199 236.4031,-177.3956\"/>\n",
       "</g>\n",
       "<!-- 14 -->\n",
       "<g id=\"node14\" class=\"node\">\n",
       "<title>14</title>\n",
       "<ellipse fill=\"#d3d3d3\" stroke=\"#d3d3d3\" cx=\"459\" cy=\"-162\" rx=\"27\" ry=\"18\"/>\n",
       "<text text-anchor=\"middle\" x=\"459\" y=\"-158.3\" font-family=\"Times,serif\" font-size=\"14.00\" fill=\"#000000\">14</text>\n",
       "</g>\n",
       "<!-- 5&#45;&gt;14 -->\n",
       "<g id=\"edge10\" class=\"edge\">\n",
       "<title>5&#45;&gt;14</title>\n",
       "<path fill=\"none\" stroke=\"#000000\" d=\"M336.8705,-223.0647C361.2222,-210.8889 400.762,-191.119 428.2285,-177.3858\"/>\n",
       "<polygon fill=\"#000000\" stroke=\"#000000\" points=\"430.0165,-180.4049 437.3955,-172.8022 426.886,-174.1439 430.0165,-180.4049\"/>\n",
       "</g>\n",
       "<!-- 6 -->\n",
       "<g id=\"node6\" class=\"node\">\n",
       "<title>6</title>\n",
       "<ellipse fill=\"#d3d3d3\" stroke=\"#d3d3d3\" cx=\"459\" cy=\"-234\" rx=\"27\" ry=\"18\"/>\n",
       "<text text-anchor=\"middle\" x=\"459\" y=\"-230.3\" font-family=\"Times,serif\" font-size=\"14.00\" fill=\"#000000\">6</text>\n",
       "</g>\n",
       "<!-- 6&#45;&gt;12 -->\n",
       "<g id=\"edge7\" class=\"edge\">\n",
       "<title>6&#45;&gt;12</title>\n",
       "<path fill=\"none\" stroke=\"#000000\" d=\"M443.7307,-218.7307C433.803,-208.803 420.6847,-195.6847 409.5637,-184.5637\"/>\n",
       "<polygon fill=\"#000000\" stroke=\"#000000\" points=\"411.7933,-181.8436 402.2473,-177.2473 406.8436,-186.7933 411.7933,-181.8436\"/>\n",
       "</g>\n",
       "<!-- 6&#45;&gt;14 -->\n",
       "<g id=\"edge11\" class=\"edge\">\n",
       "<title>6&#45;&gt;14</title>\n",
       "<path fill=\"none\" stroke=\"#000000\" d=\"M459,-215.8314C459,-208.131 459,-198.9743 459,-190.4166\"/>\n",
       "<polygon fill=\"#000000\" stroke=\"#000000\" points=\"462.5001,-190.4132 459,-180.4133 455.5001,-190.4133 462.5001,-190.4132\"/>\n",
       "</g>\n",
       "<!-- 7 -->\n",
       "<g id=\"node7\" class=\"node\">\n",
       "<title>7</title>\n",
       "<ellipse fill=\"#ffff00\" stroke=\"#ffff00\" cx=\"243\" cy=\"-234\" rx=\"27\" ry=\"18\"/>\n",
       "<text text-anchor=\"middle\" x=\"243\" y=\"-230.3\" font-family=\"Times,serif\" font-size=\"14.00\" fill=\"#000000\">7</text>\n",
       "</g>\n",
       "<!-- 7&#45;&gt;10 -->\n",
       "<g id=\"edge3\" class=\"edge\">\n",
       "<title>7&#45;&gt;10</title>\n",
       "<path fill=\"none\" stroke=\"#000000\" d=\"M221.1295,-223.0647C196.7778,-210.8889 157.238,-191.119 129.7715,-177.3858\"/>\n",
       "<polygon fill=\"#000000\" stroke=\"#000000\" points=\"131.114,-174.1439 120.6045,-172.8022 127.9835,-180.4049 131.114,-174.1439\"/>\n",
       "</g>\n",
       "<!-- 15 -->\n",
       "<g id=\"node15\" class=\"node\">\n",
       "<title>15</title>\n",
       "<ellipse fill=\"#d3d3d3\" stroke=\"#d3d3d3\" cx=\"531\" cy=\"-162\" rx=\"27\" ry=\"18\"/>\n",
       "<text text-anchor=\"middle\" x=\"531\" y=\"-158.3\" font-family=\"Times,serif\" font-size=\"14.00\" fill=\"#000000\">15</text>\n",
       "</g>\n",
       "<!-- 7&#45;&gt;15 -->\n",
       "<g id=\"edge12\" class=\"edge\">\n",
       "<title>7&#45;&gt;15</title>\n",
       "<path fill=\"none\" stroke=\"#000000\" d=\"M263.8749,-222.2531C268.7251,-219.8959 273.9497,-217.6423 279,-216 371.5536,-185.9031 402.4464,-210.0969 495,-180 496.8939,-179.3841 498.8123,-178.6823 500.7262,-177.9213\"/>\n",
       "<polygon fill=\"#000000\" stroke=\"#000000\" points=\"502.4066,-181.0047 510.1251,-173.7469 499.5653,-174.6073 502.4066,-181.0047\"/>\n",
       "</g>\n",
       "<!-- 8 -->\n",
       "<g id=\"node8\" class=\"node\">\n",
       "<title>8</title>\n",
       "<ellipse fill=\"#d3d3d3\" stroke=\"#d3d3d3\" cx=\"603\" cy=\"-234\" rx=\"27\" ry=\"18\"/>\n",
       "<text text-anchor=\"middle\" x=\"603\" y=\"-230.3\" font-family=\"Times,serif\" font-size=\"14.00\" fill=\"#000000\">8</text>\n",
       "</g>\n",
       "<!-- 8&#45;&gt;15 -->\n",
       "<g id=\"edge13\" class=\"edge\">\n",
       "<title>8&#45;&gt;15</title>\n",
       "<path fill=\"none\" stroke=\"#000000\" d=\"M587.7307,-218.7307C577.803,-208.803 564.6847,-195.6847 553.5637,-184.5637\"/>\n",
       "<polygon fill=\"#000000\" stroke=\"#000000\" points=\"555.7933,-181.8436 546.2473,-177.2473 550.8436,-186.7933 555.7933,-181.8436\"/>\n",
       "</g>\n",
       "<!-- 9 -->\n",
       "<g id=\"node9\" class=\"node\">\n",
       "<title>9</title>\n",
       "<ellipse fill=\"#d3d3d3\" stroke=\"#d3d3d3\" cx=\"531\" cy=\"-234\" rx=\"27\" ry=\"18\"/>\n",
       "<text text-anchor=\"middle\" x=\"531\" y=\"-230.3\" font-family=\"Times,serif\" font-size=\"14.00\" fill=\"#000000\">9</text>\n",
       "</g>\n",
       "<!-- 9&#45;&gt;15 -->\n",
       "<g id=\"edge14\" class=\"edge\">\n",
       "<title>9&#45;&gt;15</title>\n",
       "<path fill=\"none\" stroke=\"#000000\" d=\"M531,-215.8314C531,-208.131 531,-198.9743 531,-190.4166\"/>\n",
       "<polygon fill=\"#000000\" stroke=\"#000000\" points=\"534.5001,-190.4132 531,-180.4133 527.5001,-190.4133 534.5001,-190.4132\"/>\n",
       "</g>\n",
       "<!-- 16 -->\n",
       "<g id=\"node16\" class=\"node\">\n",
       "<title>16</title>\n",
       "<ellipse fill=\"#d3d3d3\" stroke=\"#d3d3d3\" cx=\"171\" cy=\"-90\" rx=\"27\" ry=\"18\"/>\n",
       "<text text-anchor=\"middle\" x=\"171\" y=\"-86.3\" font-family=\"Times,serif\" font-size=\"14.00\" fill=\"#000000\">16</text>\n",
       "</g>\n",
       "<!-- 10&#45;&gt;16 -->\n",
       "<g id=\"edge15\" class=\"edge\">\n",
       "<title>10&#45;&gt;16</title>\n",
       "<path fill=\"none\" stroke=\"#000000\" d=\"M114.2693,-146.7307C124.197,-136.803 137.3153,-123.6847 148.4363,-112.5637\"/>\n",
       "<polygon fill=\"#000000\" stroke=\"#000000\" points=\"151.1564,-114.7933 155.7527,-105.2473 146.2067,-109.8436 151.1564,-114.7933\"/>\n",
       "</g>\n",
       "<!-- 11&#45;&gt;16 -->\n",
       "<g id=\"edge16\" class=\"edge\">\n",
       "<title>11&#45;&gt;16</title>\n",
       "<path fill=\"none\" stroke=\"#000000\" d=\"M198.2854,-144.5708C194.0403,-136.0807 188.8464,-125.6929 184.1337,-116.2674\"/>\n",
       "<polygon fill=\"#000000\" stroke=\"#000000\" points=\"187.237,-114.6477 179.6343,-107.2687 180.976,-117.7782 187.237,-114.6477\"/>\n",
       "</g>\n",
       "<!-- 17 -->\n",
       "<g id=\"node17\" class=\"node\">\n",
       "<title>17</title>\n",
       "<ellipse fill=\"#d3d3d3\" stroke=\"#d3d3d3\" cx=\"315\" cy=\"-90\" rx=\"27\" ry=\"18\"/>\n",
       "<text text-anchor=\"middle\" x=\"315\" y=\"-86.3\" font-family=\"Times,serif\" font-size=\"14.00\" fill=\"#000000\">17</text>\n",
       "</g>\n",
       "<!-- 11&#45;&gt;17 -->\n",
       "<g id=\"edge17\" class=\"edge\">\n",
       "<title>11&#45;&gt;17</title>\n",
       "<path fill=\"none\" stroke=\"#000000\" d=\"M226.3082,-149.1278C243.3555,-137.763 268.4019,-121.0654 287.5344,-108.3104\"/>\n",
       "<polygon fill=\"#000000\" stroke=\"#000000\" points=\"289.4799,-111.2199 295.8589,-102.7607 285.5969,-105.3956 289.4799,-111.2199\"/>\n",
       "</g>\n",
       "<!-- 12&#45;&gt;17 -->\n",
       "<g id=\"edge18\" class=\"edge\">\n",
       "<title>12&#45;&gt;17</title>\n",
       "<path fill=\"none\" stroke=\"#000000\" d=\"M371.7307,-146.7307C361.803,-136.803 348.6847,-123.6847 337.5637,-112.5637\"/>\n",
       "<polygon fill=\"#000000\" stroke=\"#000000\" points=\"339.7933,-109.8436 330.2473,-105.2473 334.8436,-114.7933 339.7933,-109.8436\"/>\n",
       "</g>\n",
       "<!-- 18 -->\n",
       "<g id=\"node18\" class=\"node\">\n",
       "<title>18</title>\n",
       "<ellipse fill=\"#d3d3d3\" stroke=\"#d3d3d3\" cx=\"387\" cy=\"-90\" rx=\"27\" ry=\"18\"/>\n",
       "<text text-anchor=\"middle\" x=\"387\" y=\"-86.3\" font-family=\"Times,serif\" font-size=\"14.00\" fill=\"#000000\">18</text>\n",
       "</g>\n",
       "<!-- 13&#45;&gt;18 -->\n",
       "<g id=\"edge19\" class=\"edge\">\n",
       "<title>13&#45;&gt;18</title>\n",
       "<path fill=\"none\" stroke=\"#000000\" d=\"M330.2693,-146.7307C340.197,-136.803 353.3153,-123.6847 364.4363,-112.5637\"/>\n",
       "<polygon fill=\"#000000\" stroke=\"#000000\" points=\"367.1564,-114.7933 371.7527,-105.2473 362.2067,-109.8436 367.1564,-114.7933\"/>\n",
       "</g>\n",
       "<!-- 14&#45;&gt;18 -->\n",
       "<g id=\"edge20\" class=\"edge\">\n",
       "<title>14&#45;&gt;18</title>\n",
       "<path fill=\"none\" stroke=\"#000000\" d=\"M443.7307,-146.7307C433.803,-136.803 420.6847,-123.6847 409.5637,-112.5637\"/>\n",
       "<polygon fill=\"#000000\" stroke=\"#000000\" points=\"411.7933,-109.8436 402.2473,-105.2473 406.8436,-114.7933 411.7933,-109.8436\"/>\n",
       "</g>\n",
       "<!-- 19 -->\n",
       "<g id=\"node19\" class=\"node\">\n",
       "<title>19</title>\n",
       "<ellipse fill=\"#d3d3d3\" stroke=\"#d3d3d3\" cx=\"495\" cy=\"-90\" rx=\"27\" ry=\"18\"/>\n",
       "<text text-anchor=\"middle\" x=\"495\" y=\"-86.3\" font-family=\"Times,serif\" font-size=\"14.00\" fill=\"#000000\">19</text>\n",
       "</g>\n",
       "<!-- 14&#45;&gt;19 -->\n",
       "<g id=\"edge21\" class=\"edge\">\n",
       "<title>14&#45;&gt;19</title>\n",
       "<path fill=\"none\" stroke=\"#000000\" d=\"M467.7146,-144.5708C471.9597,-136.0807 477.1536,-125.6929 481.8663,-116.2674\"/>\n",
       "<polygon fill=\"#000000\" stroke=\"#000000\" points=\"485.024,-117.7782 486.3657,-107.2687 478.763,-114.6477 485.024,-117.7782\"/>\n",
       "</g>\n",
       "<!-- 15&#45;&gt;19 -->\n",
       "<g id=\"edge22\" class=\"edge\">\n",
       "<title>15&#45;&gt;19</title>\n",
       "<path fill=\"none\" stroke=\"#000000\" d=\"M522.2854,-144.5708C518.0403,-136.0807 512.8464,-125.6929 508.1337,-116.2674\"/>\n",
       "<polygon fill=\"#000000\" stroke=\"#000000\" points=\"511.237,-114.6477 503.6343,-107.2687 504.976,-117.7782 511.237,-114.6477\"/>\n",
       "</g>\n",
       "<!-- 20 -->\n",
       "<g id=\"node20\" class=\"node\">\n",
       "<title>20</title>\n",
       "<ellipse fill=\"#d3d3d3\" stroke=\"#d3d3d3\" cx=\"351\" cy=\"-18\" rx=\"27\" ry=\"18\"/>\n",
       "<text text-anchor=\"middle\" x=\"351\" y=\"-14.3\" font-family=\"Times,serif\" font-size=\"14.00\" fill=\"#000000\">20</text>\n",
       "</g>\n",
       "<!-- 17&#45;&gt;20 -->\n",
       "<g id=\"edge23\" class=\"edge\">\n",
       "<title>17&#45;&gt;20</title>\n",
       "<path fill=\"none\" stroke=\"#000000\" d=\"M323.7146,-72.5708C327.9597,-64.0807 333.1536,-53.6929 337.8663,-44.2674\"/>\n",
       "<polygon fill=\"#000000\" stroke=\"#000000\" points=\"341.024,-45.7782 342.3657,-35.2687 334.763,-42.6477 341.024,-45.7782\"/>\n",
       "</g>\n",
       "<!-- 18&#45;&gt;20 -->\n",
       "<g id=\"edge24\" class=\"edge\">\n",
       "<title>18&#45;&gt;20</title>\n",
       "<path fill=\"none\" stroke=\"#000000\" d=\"M378.2854,-72.5708C374.0403,-64.0807 368.8464,-53.6929 364.1337,-44.2674\"/>\n",
       "<polygon fill=\"#000000\" stroke=\"#000000\" points=\"367.237,-42.6477 359.6343,-35.2687 360.976,-45.7782 367.237,-42.6477\"/>\n",
       "</g>\n",
       "</g>\n",
       "</svg>\n"
      ],
      "text/plain": [
       "<graphviz.dot.Digraph at 0x7f915bddebe0>"
      ]
     },
     "execution_count": 10,
     "metadata": {},
     "output_type": "execute_result"
    }
   ],
   "source": [
    "light_box_test.turn_on(1)\n",
    "light_box_test.turn_on(4)\n",
    "light_box_test.turn_on(7)\n",
    "light_box_test.show()"
   ]
  },
  {
   "cell_type": "code",
   "execution_count": 7,
   "metadata": {},
   "outputs": [
    {
     "name": "stdout",
     "output_type": "stream",
     "text": [
      "24\n"
     ]
    },
    {
     "data": {
      "text/plain": [
       "{(10, 1),\n",
       " (10, 4),\n",
       " (10, 7),\n",
       " (11, 2),\n",
       " (11, 5),\n",
       " (12, 3),\n",
       " (12, 6),\n",
       " (13, 2),\n",
       " (13, 3),\n",
       " (14, 5),\n",
       " (14, 6),\n",
       " (15, 7),\n",
       " (15, 8),\n",
       " (15, 9),\n",
       " (16, 10),\n",
       " (16, 11),\n",
       " (17, 11),\n",
       " (17, 12),\n",
       " (18, 13),\n",
       " (18, 14),\n",
       " (19, 14),\n",
       " (19, 15),\n",
       " (20, 17),\n",
       " (20, 18)}"
      ]
     },
     "execution_count": 7,
     "metadata": {},
     "output_type": "execute_result"
    }
   ],
   "source": [
    "print(len(light_box_test.refin))\n",
    "light_box_test.refin"
   ]
  },
  {
   "cell_type": "code",
   "execution_count": null,
   "metadata": {},
   "outputs": [],
   "source": []
  }
 ],
 "metadata": {
  "kernelspec": {
   "display_name": "Python 3",
   "language": "python",
   "name": "python3"
  },
  "language_info": {
   "codemirror_mode": {
    "name": "ipython",
    "version": 3
   },
   "file_extension": ".py",
   "mimetype": "text/x-python",
   "name": "python",
   "nbconvert_exporter": "python",
   "pygments_lexer": "ipython3",
   "version": "3.6.8"
  }
 },
 "nbformat": 4,
 "nbformat_minor": 4
}
